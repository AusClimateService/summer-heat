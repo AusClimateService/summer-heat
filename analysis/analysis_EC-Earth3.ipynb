{
 "cells": [
  {
   "cell_type": "markdown",
   "id": "4d047299",
   "metadata": {
    "papermill": {
     "duration": 0.037,
     "end_time": "2022-10-03T05:09:19.100215",
     "exception": false,
     "start_time": "2022-10-03T05:09:19.063215",
     "status": "completed"
    },
    "tags": []
   },
   "source": [
    "# Summer heat\n",
    "\n",
    "Summer 2018/19 was the hottest summer on record for Australia."
   ]
  },
  {
   "cell_type": "code",
   "execution_count": 1,
   "id": "95569a41",
   "metadata": {
    "execution": {
     "iopub.execute_input": "2022-10-03T05:09:19.150935Z",
     "iopub.status.busy": "2022-10-03T05:09:19.150449Z",
     "iopub.status.idle": "2022-10-03T05:09:26.343603Z",
     "shell.execute_reply": "2022-10-03T05:09:26.344530Z"
    },
    "papermill": {
     "duration": 7.228035,
     "end_time": "2022-10-03T05:09:26.345004",
     "exception": false,
     "start_time": "2022-10-03T05:09:19.116969",
     "status": "completed"
    },
    "tags": []
   },
   "outputs": [],
   "source": [
    "import os\n",
    "\n",
    "import matplotlib.pyplot as plt\n",
    "import pandas as pd\n",
    "import numpy as np\n",
    "from IPython.display import Image\n",
    "from scipy.stats import genextreme as gev\n",
    "\n",
    "from unseen import fileio\n",
    "from unseen import general_utils\n",
    "from unseen import indices\n",
    "from unseen import time_utils"
   ]
  },
  {
   "cell_type": "code",
   "execution_count": 2,
   "id": "56e9e0ab",
   "metadata": {
    "execution": {
     "iopub.execute_input": "2022-10-03T05:09:26.424944Z",
     "iopub.status.busy": "2022-10-03T05:09:26.424159Z",
     "iopub.status.idle": "2022-10-03T05:09:26.426881Z",
     "shell.execute_reply": "2022-10-03T05:09:26.426140Z"
    },
    "papermill": {
     "duration": 0.044323,
     "end_time": "2022-10-03T05:09:26.427113",
     "exception": false,
     "start_time": "2022-10-03T05:09:26.382790",
     "status": "completed"
    },
    "tags": [
     "parameters"
    ]
   },
   "outputs": [],
   "source": [
    "# Optional parameters \n",
    "# (This cell is tagged \"parameters\")\n",
    "dpi = 300"
   ]
  },
  {
   "cell_type": "code",
   "execution_count": 3,
   "id": "fd030db9",
   "metadata": {
    "execution": {
     "iopub.execute_input": "2022-10-03T05:09:26.473381Z",
     "iopub.status.busy": "2022-10-03T05:09:26.472559Z",
     "iopub.status.idle": "2022-10-03T05:09:26.476675Z",
     "shell.execute_reply": "2022-10-03T05:09:26.475876Z"
    },
    "papermill": {
     "duration": 0.025437,
     "end_time": "2022-10-03T05:09:26.476909",
     "exception": false,
     "start_time": "2022-10-03T05:09:26.451472",
     "status": "completed"
    },
    "tags": [
     "injected-parameters"
    ]
   },
   "outputs": [],
   "source": [
    "# Parameters\n",
    "bom_file = \"/g/data/xv83/dbi599/summer-heat/data/tas_BoM_1911-2022_DJF_aus-mean.nc\"\n",
    "model_file = \"/g/data/xv83/dbi599/summer-heat/data/tas_EC-Earth3-dcppA-hindcast_196011-201811_DJF_aus-mean.zarr.zip\"\n",
    "model_bc_file = \"/g/data/xv83/dbi599/summer-heat/data/tas_EC-Earth3-dcppA-hindcast_196011-201811_DJF_aus-mean_bias-corrected-BoM-additive.zarr.zip\"\n",
    "similarity_bc_file = \"/g/data/xv83/dbi599/summer-heat/data/ks-test_tas_EC-Earth3-dcppA-hindcast_1960-2018_DJF_aus-mean_bias-corrected-BoM-additive.zarr.zip\"\n",
    "similarity_raw_file = \"/g/data/xv83/dbi599/summer-heat/data/ks-test_tas_EC-Earth3-dcppA-hindcast_1960-2018_DJF_aus-mean_BoM.zarr.zip\"\n",
    "independence_plot = \"/g/data/xv83/dbi599/summer-heat/figures/independence-test_tas_EC-Earth3-dcppA-hindcast_196011-201811_DJF_aus-mean.png\"\n",
    "model_name = \"EC-Earth3\"\n",
    "min_lead = 2\n"
   ]
  },
  {
   "cell_type": "code",
   "execution_count": 4,
   "id": "b9787631",
   "metadata": {
    "execution": {
     "iopub.execute_input": "2022-10-03T05:09:26.530991Z",
     "iopub.status.busy": "2022-10-03T05:09:26.530616Z",
     "iopub.status.idle": "2022-10-03T05:09:26.535451Z",
     "shell.execute_reply": "2022-10-03T05:09:26.535148Z"
    },
    "papermill": {
     "duration": 0.027186,
     "end_time": "2022-10-03T05:09:26.535534",
     "exception": false,
     "start_time": "2022-10-03T05:09:26.508348",
     "status": "completed"
    },
    "tags": []
   },
   "outputs": [],
   "source": [
    "# Required parameters\n",
    "assert 'model_name' in locals(), \"Must provide a model name\"\n",
    "assert 'min_lead' in locals(), \"Must provide a minimum lead time\"\n",
    "assert os.path.isfile(bom_file), \"Must provide an BoM data file (papermill option -p agcd_file [filepath])\"\n",
    "assert os.path.isfile(model_file), \"Must provide an model data file (papermill option -p cafe_file [filepath])\"\n",
    "assert os.path.isfile(model_bc_file), \"Must provide a model bias corrected data file (papermill option -p cafe_bc_file [filepath])\"\n",
    "assert os.path.isfile(similarity_bc_file), \"Must provide an bias corrected similarity test file (papermill option -p similarity_bias_file [filepath])\"\n",
    "assert os.path.isfile(similarity_raw_file), \"Must provide an raw data similarity test file (papermill option -p similarity_raw_file [filepath])\"\n",
    "assert os.path.isfile(independence_plot), \"Must provide an independence test plot (papermill option -p independence_plot [filepath])\""
   ]
  },
  {
   "cell_type": "markdown",
   "id": "5c8da4f2",
   "metadata": {
    "papermill": {
     "duration": 0.014148,
     "end_time": "2022-10-03T05:09:26.566806",
     "exception": false,
     "start_time": "2022-10-03T05:09:26.552658",
     "status": "completed"
    },
    "tags": []
   },
   "source": [
    "## Observations"
   ]
  },
  {
   "cell_type": "code",
   "execution_count": 5,
   "id": "d80b0c20",
   "metadata": {
    "execution": {
     "iopub.execute_input": "2022-10-03T05:09:26.604638Z",
     "iopub.status.busy": "2022-10-03T05:09:26.604302Z",
     "iopub.status.idle": "2022-10-03T05:09:26.614377Z",
     "shell.execute_reply": "2022-10-03T05:09:26.614698Z"
    },
    "papermill": {
     "duration": 0.029949,
     "end_time": "2022-10-03T05:09:26.614793",
     "exception": false,
     "start_time": "2022-10-03T05:09:26.584844",
     "status": "completed"
    },
    "tags": []
   },
   "outputs": [
    {
     "data": {
      "image/png": "[encoded data removed]",
      "text/plain": [
       "<IPython.core.display.Image object>"
      ]
     },
     "execution_count": 5,
     "metadata": {},
     "output_type": "execute_result"
    }
   ],
   "source": [
    "Image(filename='/home/599/dbi599/summer-heat/analysis/tas_BoM_1911-2022_DJF_aus-mean.png')"
   ]
  },
  {
   "cell_type": "code",
   "execution_count": 6,
   "id": "f40952f6",
   "metadata": {
    "execution": {
     "iopub.execute_input": "2022-10-03T05:09:26.656262Z",
     "iopub.status.busy": "2022-10-03T05:09:26.655940Z",
     "iopub.status.idle": "2022-10-03T05:09:26.860091Z",
     "shell.execute_reply": "2022-10-03T05:09:26.859128Z"
    },
    "papermill": {
     "duration": 0.224772,
     "end_time": "2022-10-03T05:09:26.860320",
     "exception": false,
     "start_time": "2022-10-03T05:09:26.635548",
     "status": "completed"
    },
    "tags": []
   },
   "outputs": [],
   "source": [
    "bom_ds = fileio.open_dataset(bom_file)"
   ]
  },
  {
   "cell_type": "code",
   "execution_count": 7,
   "id": "1493ff0f",
   "metadata": {
    "execution": {
     "iopub.execute_input": "2022-10-03T05:09:26.919278Z",
     "iopub.status.busy": "2022-10-03T05:09:26.918955Z",
     "iopub.status.idle": "2022-10-03T05:09:26.943192Z",
     "shell.execute_reply": "2022-10-03T05:09:26.942304Z"
    },
    "papermill": {
     "duration": 0.051125,
     "end_time": "2022-10-03T05:09:26.943427",
     "exception": false,
     "start_time": "2022-10-03T05:09:26.892302",
     "status": "completed"
    },
    "tags": []
   },
   "outputs": [
    {
     "data": {
      "text/html": [
       "<div><svg style=\"position: absolute; width: 0; height: 0; overflow: hidden\">\n",
       "<defs>\n",
       "<symbol id=\"icon-database\" viewBox=\"0 0 32 32\">\n",
       "<path d=\"M16 0c-8.837 0-16 2.239-16 5v4c0 2.761 7.163 5 16 5s16-2.239 16-5v-4c0-2.761-7.163-5-16-5z\"></path>\n",
       "<path d=\"M16 17c-8.837 0-16-2.239-16-5v6c0 2.761 7.163 5 16 5s16-2.239 16-5v-6c0 2.761-7.163 5-16 5z\"></path>\n",
       "<path d=\"M16 26c-8.837 0-16-2.239-16-5v6c0 2.761 7.163 5 16 5s16-2.239 16-5v-6c0 2.761-7.163 5-16 5z\"></path>\n",
       "</symbol>\n",
       "<symbol id=\"icon-file-text2\" viewBox=\"0 0 32 32\">\n",
       "<path d=\"M28.681 7.159c-0.694-0.947-1.662-2.053-2.724-3.116s-2.169-2.030-3.116-2.724c-1.612-1.182-2.393-1.319-2.841-1.319h-15.5c-1.378 0-2.5 1.121-2.5 2.5v27c0 1.378 1.122 2.5 2.5 2.5h23c1.378 0 2.5-1.122 2.5-2.5v-19.5c0-0.448-0.137-1.23-1.319-2.841zM24.543 5.457c0.959 0.959 1.712 1.825 2.268 2.543h-4.811v-4.811c0.718 0.556 1.584 1.309 2.543 2.268zM28 29.5c0 0.271-0.229 0.5-0.5 0.5h-23c-0.271 0-0.5-0.229-0.5-0.5v-27c0-0.271 0.229-0.5 0.5-0.5 0 0 15.499-0 15.5 0v7c0 0.552 0.448 1 1 1h7v19.5z\"></path>\n",
       "<path d=\"M23 26h-14c-0.552 0-1-0.448-1-1s0.448-1 1-1h14c0.552 0 1 0.448 1 1s-0.448 1-1 1z\"></path>\n",
       "<path d=\"M23 22h-14c-0.552 0-1-0.448-1-1s0.448-1 1-1h14c0.552 0 1 0.448 1 1s-0.448 1-1 1z\"></path>\n",
       "<path d=\"M23 18h-14c-0.552 0-1-0.448-1-1s0.448-1 1-1h14c0.552 0 1 0.448 1 1s-0.448 1-1 1z\"></path>\n",
       "</symbol>\n",
       "</defs>\n",
       "</svg>\n",
       "<style>/* CSS stylesheet for displaying xarray objects in jupyterlab.\n",
       " *\n",
       " */\n",
       "\n",
       ":root {\n",
       "  --xr-font-color0: var(--jp-content-font-color0, rgba(0, 0, 0, 1));\n",
       "  --xr-font-color2: var(--jp-content-font-color2, rgba(0, 0, 0, 0.54));\n",
       "  --xr-font-color3: var(--jp-content-font-color3, rgba(0, 0, 0, 0.38));\n",
       "  --xr-border-color: var(--jp-border-color2, #e0e0e0);\n",
       "  --xr-disabled-color: var(--jp-layout-color3, #bdbdbd);\n",
       "  --xr-background-color: var(--jp-layout-color0, white);\n",
       "  --xr-background-color-row-even: var(--jp-layout-color1, white);\n",
       "  --xr-background-color-row-odd: var(--jp-layout-color2, #eeeeee);\n",
       "}\n",
       "\n",
       "html[theme=dark],\n",
       "body.vscode-dark {\n",
       "  --xr-font-color0: rgba(255, 255, 255, 1);\n",
       "  --xr-font-color2: rgba(255, 255, 255, 0.54);\n",
       "  --xr-font-color3: rgba(255, 255, 255, 0.38);\n",
       "  --xr-border-color: #1F1F1F;\n",
       "  --xr-disabled-color: #515151;\n",
       "  --xr-background-color: #111111;\n",
       "  --xr-background-color-row-even: #111111;\n",
       "  --xr-background-color-row-odd: #313131;\n",
       "}\n",
       "\n",
       ".xr-wrap {\n",
       "  display: block !important;\n",
       "  min-width: 300px;\n",
       "  max-width: 700px;\n",
       "}\n",
       "\n",
       ".xr-text-repr-fallback {\n",
       "  /* fallback to plain text repr when CSS is not injected (untrusted notebook) */\n",
       "  display: none;\n",
       "}\n",
       "\n",
       ".xr-header {\n",
       "  padding-top: 6px;\n",
       "  padding-bottom: 6px;\n",
       "  margin-bottom: 4px;\n",
       "  border-bottom: solid 1px var(--xr-border-color);\n",
       "}\n",
       "\n",
       ".xr-header > div,\n",
       ".xr-header > ul {\n",
       "  display: inline;\n",
       "  margin-top: 0;\n",
       "  margin-bottom: 0;\n",
       "}\n",
       "\n",
       ".xr-obj-type,\n",
       ".xr-array-name {\n",
       "  margin-left: 2px;\n",
       "  margin-right: 10px;\n",
       "}\n",
       "\n",
       ".xr-obj-type {\n",
       "  color: var(--xr-font-color2);\n",
       "}\n",
       "\n",
       ".xr-sections {\n",
       "  padding-left: 0 !important;\n",
       "  display: grid;\n",
       "  grid-template-columns: 150px auto auto 1fr 20px 20px;\n",
       "}\n",
       "\n",
       ".xr-section-item {\n",
       "  display: contents;\n",
       "}\n",
       "\n",
       ".xr-section-item input {\n",
       "  display: none;\n",
       "}\n",
       "\n",
       ".xr-section-item input + label {\n",
       "  color: var(--xr-disabled-color);\n",
       "}\n",
       "\n",
       ".xr-section-item input:enabled + label {\n",
       "  cursor: pointer;\n",
       "  color: var(--xr-font-color2);\n",
       "}\n",
       "\n",
       ".xr-section-item input:enabled + label:hover {\n",
       "  color: var(--xr-font-color0);\n",
       "}\n",
       "\n",
       ".xr-section-summary {\n",
       "  grid-column: 1;\n",
       "  color: var(--xr-font-color2);\n",
       "  font-weight: 500;\n",
       "}\n",
       "\n",
       ".xr-section-summary > span {\n",
       "  display: inline-block;\n",
       "  padding-left: 0.5em;\n",
       "}\n",
       "\n",
       ".xr-section-summary-in:disabled + label {\n",
       "  color: var(--xr-font-color2);\n",
       "}\n",
       "\n",
       ".xr-section-summary-in + label:before {\n",
       "  display: inline-block;\n",
       "  content: '►';\n",
       "  font-size: 11px;\n",
       "  width: 15px;\n",
       "  text-align: center;\n",
       "}\n",
       "\n",
       ".xr-section-summary-in:disabled + label:before {\n",
       "  color: var(--xr-disabled-color);\n",
       "}\n",
       "\n",
       ".xr-section-summary-in:checked + label:before {\n",
       "  content: '▼';\n",
       "}\n",
       "\n",
       ".xr-section-summary-in:checked + label > span {\n",
       "  display: none;\n",
       "}\n",
       "\n",
       ".xr-section-summary,\n",
       ".xr-section-inline-details {\n",
       "  padding-top: 4px;\n",
       "  padding-bottom: 4px;\n",
       "}\n",
       "\n",
       ".xr-section-inline-details {\n",
       "  grid-column: 2 / -1;\n",
       "}\n",
       "\n",
       ".xr-section-details {\n",
       "  display: none;\n",
       "  grid-column: 1 / -1;\n",
       "  margin-bottom: 5px;\n",
       "}\n",
       "\n",
       ".xr-section-summary-in:checked ~ .xr-section-details {\n",
       "  display: contents;\n",
       "}\n",
       "\n",
       ".xr-array-wrap {\n",
       "  grid-column: 1 / -1;\n",
       "  display: grid;\n",
       "  grid-template-columns: 20px auto;\n",
       "}\n",
       "\n",
       ".xr-array-wrap > label {\n",
       "  grid-column: 1;\n",
       "  vertical-align: top;\n",
       "}\n",
       "\n",
       ".xr-preview {\n",
       "  color: var(--xr-font-color3);\n",
       "}\n",
       "\n",
       ".xr-array-preview,\n",
       ".xr-array-data {\n",
       "  padding: 0 5px !important;\n",
       "  grid-column: 2;\n",
       "}\n",
       "\n",
       ".xr-array-data,\n",
       ".xr-array-in:checked ~ .xr-array-preview {\n",
       "  display: none;\n",
       "}\n",
       "\n",
       ".xr-array-in:checked ~ .xr-array-data,\n",
       ".xr-array-preview {\n",
       "  display: inline-block;\n",
       "}\n",
       "\n",
       ".xr-dim-list {\n",
       "  display: inline-block !important;\n",
       "  list-style: none;\n",
       "  padding: 0 !important;\n",
       "  margin: 0;\n",
       "}\n",
       "\n",
       ".xr-dim-list li {\n",
       "  display: inline-block;\n",
       "  padding: 0;\n",
       "  margin: 0;\n",
       "}\n",
       "\n",
       ".xr-dim-list:before {\n",
       "  content: '(';\n",
       "}\n",
       "\n",
       ".xr-dim-list:after {\n",
       "  content: ')';\n",
       "}\n",
       "\n",
       ".xr-dim-list li:not(:last-child):after {\n",
       "  content: ',';\n",
       "  padding-right: 5px;\n",
       "}\n",
       "\n",
       ".xr-has-index {\n",
       "  font-weight: bold;\n",
       "}\n",
       "\n",
       ".xr-var-list,\n",
       ".xr-var-item {\n",
       "  display: contents;\n",
       "}\n",
       "\n",
       ".xr-var-item > div,\n",
       ".xr-var-item label,\n",
       ".xr-var-item > .xr-var-name span {\n",
       "  background-color: var(--xr-background-color-row-even);\n",
       "  margin-bottom: 0;\n",
       "}\n",
       "\n",
       ".xr-var-item > .xr-var-name:hover span {\n",
       "  padding-right: 5px;\n",
       "}\n",
       "\n",
       ".xr-var-list > li:nth-child(odd) > div,\n",
       ".xr-var-list > li:nth-child(odd) > label,\n",
       ".xr-var-list > li:nth-child(odd) > .xr-var-name span {\n",
       "  background-color: var(--xr-background-color-row-odd);\n",
       "}\n",
       "\n",
       ".xr-var-name {\n",
       "  grid-column: 1;\n",
       "}\n",
       "\n",
       ".xr-var-dims {\n",
       "  grid-column: 2;\n",
       "}\n",
       "\n",
       ".xr-var-dtype {\n",
       "  grid-column: 3;\n",
       "  text-align: right;\n",
       "  color: var(--xr-font-color2);\n",
       "}\n",
       "\n",
       ".xr-var-preview {\n",
       "  grid-column: 4;\n",
       "}\n",
       "\n",
       ".xr-var-name,\n",
       ".xr-var-dims,\n",
       ".xr-var-dtype,\n",
       ".xr-preview,\n",
       ".xr-attrs dt {\n",
       "  white-space: nowrap;\n",
       "  overflow: hidden;\n",
       "  text-overflow: ellipsis;\n",
       "  padding-right: 10px;\n",
       "}\n",
       "\n",
       ".xr-var-name:hover,\n",
       ".xr-var-dims:hover,\n",
       ".xr-var-dtype:hover,\n",
       ".xr-attrs dt:hover {\n",
       "  overflow: visible;\n",
       "  width: auto;\n",
       "  z-index: 1;\n",
       "}\n",
       "\n",
       ".xr-var-attrs,\n",
       ".xr-var-data {\n",
       "  display: none;\n",
       "  background-color: var(--xr-background-color) !important;\n",
       "  padding-bottom: 5px !important;\n",
       "}\n",
       "\n",
       ".xr-var-attrs-in:checked ~ .xr-var-attrs,\n",
       ".xr-var-data-in:checked ~ .xr-var-data {\n",
       "  display: block;\n",
       "}\n",
       "\n",
       ".xr-var-data > table {\n",
       "  float: right;\n",
       "}\n",
       "\n",
       ".xr-var-name span,\n",
       ".xr-var-data,\n",
       ".xr-attrs {\n",
       "  padding-left: 25px !important;\n",
       "}\n",
       "\n",
       ".xr-attrs,\n",
       ".xr-var-attrs,\n",
       ".xr-var-data {\n",
       "  grid-column: 1 / -1;\n",
       "}\n",
       "\n",
       "dl.xr-attrs {\n",
       "  padding: 0;\n",
       "  margin: 0;\n",
       "  display: grid;\n",
       "  grid-template-columns: 125px auto;\n",
       "}\n",
       "\n",
       ".xr-attrs dt,\n",
       ".xr-attrs dd {\n",
       "  padding: 0;\n",
       "  margin: 0;\n",
       "  float: left;\n",
       "  padding-right: 10px;\n",
       "  width: auto;\n",
       "}\n",
       "\n",
       ".xr-attrs dt {\n",
       "  font-weight: normal;\n",
       "  grid-column: 1;\n",
       "}\n",
       "\n",
       ".xr-attrs dt:hover span {\n",
       "  display: inline-block;\n",
       "  background: var(--xr-background-color);\n",
       "  padding-right: 10px;\n",
       "}\n",
       "\n",
       ".xr-attrs dd {\n",
       "  grid-column: 2;\n",
       "  white-space: pre-wrap;\n",
       "  word-break: break-all;\n",
       "}\n",
       "\n",
       ".xr-icon-database,\n",
       ".xr-icon-file-text2 {\n",
       "  display: inline-block;\n",
       "  vertical-align: middle;\n",
       "  width: 1em;\n",
       "  height: 1.5em !important;\n",
       "  stroke-width: 0;\n",
       "  stroke: currentColor;\n",
       "  fill: currentColor;\n",
       "}\n",
       "</style><pre class='xr-text-repr-fallback'>&lt;xarray.Dataset&gt;\n",
       "Dimensions:  (time: 112)\n",
       "Coordinates:\n",
       "  * time     (time) object 1911-02-15 00:00:00 ... 2022-02-15 00:00:00\n",
       "Data variables:\n",
       "    tas      (time) float64 dask.array&lt;chunksize=(112,), meta=np.ndarray&gt;\n",
       "Attributes:\n",
       "    history:  Mon Oct 03 10:31:06 2022: /g/data/xv83/dbi599/miniconda3/envs/u...\n",
       "    source:   http://www.bom.gov.au/climate/change/index.shtml</pre><div class='xr-wrap' style='display:none'><div class='xr-header'><div class='xr-obj-type'>xarray.Dataset</div></div><ul class='xr-sections'><li class='xr-section-item'><input id='section-da17bc83-ad67-44ae-ab59-8139e857c73c' class='xr-section-summary-in' type='checkbox' disabled ><label for='section-da17bc83-ad67-44ae-ab59-8139e857c73c' class='xr-section-summary'  title='Expand/collapse section'>Dimensions:</label><div class='xr-section-inline-details'><ul class='xr-dim-list'><li><span class='xr-has-index'>time</span>: 112</li></ul></div><div class='xr-section-details'></div></li><li class='xr-section-item'><input id='section-84d63207-b367-4b6a-97d2-2e95dc67e6c3' class='xr-section-summary-in' type='checkbox'  checked><label for='section-84d63207-b367-4b6a-97d2-2e95dc67e6c3' class='xr-section-summary' >Coordinates: <span>(1)</span></label><div class='xr-section-inline-details'></div><div class='xr-section-details'><ul class='xr-var-list'><li class='xr-var-item'><div class='xr-var-name'><span class='xr-has-index'>time</span></div><div class='xr-var-dims'>(time)</div><div class='xr-var-dtype'>object</div><div class='xr-var-preview xr-preview'>1911-02-15 00:00:00 ... 2022-02-...</div><input id='attrs-5b22819a-3344-402c-93bf-9607f6f181d1' class='xr-var-attrs-in' type='checkbox' ><label for='attrs-5b22819a-3344-402c-93bf-9607f6f181d1' title='Show/Hide attributes'><svg class='icon xr-icon-file-text2'><use xlink:href='#icon-file-text2'></use></svg></label><input id='data-dde1033d-080c-43d8-87a7-021ff692e6b6' class='xr-var-data-in' type='checkbox'><label for='data-dde1033d-080c-43d8-87a7-021ff692e6b6' title='Show/Hide data repr'><svg class='icon xr-icon-database'><use xlink:href='#icon-database'></use></svg></label><div class='xr-var-attrs'><dl class='xr-attrs'><dt><span>long_name :</span></dt><dd>time</dd></dl></div><div class='xr-var-data'><pre>array([cftime.DatetimeJulian(1911, 2, 15, 0, 0, 0, 0, has_year_zero=False),\n",
       "       cftime.DatetimeJulian(1912, 2, 15, 0, 0, 0, 0, has_year_zero=False),\n",
       "       cftime.DatetimeJulian(1913, 2, 15, 0, 0, 0, 0, has_year_zero=False),\n",
       "       cftime.DatetimeJulian(1914, 2, 15, 0, 0, 0, 0, has_year_zero=False),\n",
       "       cftime.DatetimeJulian(1915, 2, 15, 0, 0, 0, 0, has_year_zero=False),\n",
       "       cftime.DatetimeJulian(1916, 2, 15, 0, 0, 0, 0, has_year_zero=False),\n",
       "       cftime.DatetimeJulian(1917, 2, 15, 0, 0, 0, 0, has_year_zero=False),\n",
       "       cftime.DatetimeJulian(1918, 2, 15, 0, 0, 0, 0, has_year_zero=False),\n",
       "       cftime.DatetimeJulian(1919, 2, 15, 0, 0, 0, 0, has_year_zero=False),\n",
       "       cftime.DatetimeJulian(1920, 2, 15, 0, 0, 0, 0, has_year_zero=False),\n",
       "       cftime.DatetimeJulian(1921, 2, 15, 0, 0, 0, 0, has_year_zero=False),\n",
       "       cftime.DatetimeJulian(1922, 2, 15, 0, 0, 0, 0, has_year_zero=False),\n",
       "       cftime.DatetimeJulian(1923, 2, 15, 0, 0, 0, 0, has_year_zero=False),\n",
       "       cftime.DatetimeJulian(1924, 2, 15, 0, 0, 0, 0, has_year_zero=False),\n",
       "       cftime.DatetimeJulian(1925, 2, 15, 0, 0, 0, 0, has_year_zero=False),\n",
       "       cftime.DatetimeJulian(1926, 2, 15, 0, 0, 0, 0, has_year_zero=False),\n",
       "       cftime.DatetimeJulian(1927, 2, 15, 0, 0, 0, 0, has_year_zero=False),\n",
       "       cftime.DatetimeJulian(1928, 2, 15, 0, 0, 0, 0, has_year_zero=False),\n",
       "       cftime.DatetimeJulian(1929, 2, 15, 0, 0, 0, 0, has_year_zero=False),\n",
       "       cftime.DatetimeJulian(1930, 2, 15, 0, 0, 0, 0, has_year_zero=False),\n",
       "       cftime.DatetimeJulian(1931, 2, 15, 0, 0, 0, 0, has_year_zero=False),\n",
       "       cftime.DatetimeJulian(1932, 2, 15, 0, 0, 0, 0, has_year_zero=False),\n",
       "       cftime.DatetimeJulian(1933, 2, 15, 0, 0, 0, 0, has_year_zero=False),\n",
       "       cftime.DatetimeJulian(1934, 2, 15, 0, 0, 0, 0, has_year_zero=False),\n",
       "       cftime.DatetimeJulian(1935, 2, 15, 0, 0, 0, 0, has_year_zero=False),\n",
       "       cftime.DatetimeJulian(1936, 2, 15, 0, 0, 0, 0, has_year_zero=False),\n",
       "       cftime.DatetimeJulian(1937, 2, 15, 0, 0, 0, 0, has_year_zero=False),\n",
       "       cftime.DatetimeJulian(1938, 2, 15, 0, 0, 0, 0, has_year_zero=False),\n",
       "       cftime.DatetimeJulian(1939, 2, 15, 0, 0, 0, 0, has_year_zero=False),\n",
       "       cftime.DatetimeJulian(1940, 2, 15, 0, 0, 0, 0, has_year_zero=False),\n",
       "       cftime.DatetimeJulian(1941, 2, 15, 0, 0, 0, 0, has_year_zero=False),\n",
       "       cftime.DatetimeJulian(1942, 2, 15, 0, 0, 0, 0, has_year_zero=False),\n",
       "       cftime.DatetimeJulian(1943, 2, 15, 0, 0, 0, 0, has_year_zero=False),\n",
       "       cftime.DatetimeJulian(1944, 2, 15, 0, 0, 0, 0, has_year_zero=False),\n",
       "       cftime.DatetimeJulian(1945, 2, 15, 0, 0, 0, 0, has_year_zero=False),\n",
       "       cftime.DatetimeJulian(1946, 2, 15, 0, 0, 0, 0, has_year_zero=False),\n",
       "       cftime.DatetimeJulian(1947, 2, 15, 0, 0, 0, 0, has_year_zero=False),\n",
       "       cftime.DatetimeJulian(1948, 2, 15, 0, 0, 0, 0, has_year_zero=False),\n",
       "       cftime.DatetimeJulian(1949, 2, 15, 0, 0, 0, 0, has_year_zero=False),\n",
       "       cftime.DatetimeJulian(1950, 2, 15, 0, 0, 0, 0, has_year_zero=False),\n",
       "       cftime.DatetimeJulian(1951, 2, 15, 0, 0, 0, 0, has_year_zero=False),\n",
       "       cftime.DatetimeJulian(1952, 2, 15, 0, 0, 0, 0, has_year_zero=False),\n",
       "       cftime.DatetimeJulian(1953, 2, 15, 0, 0, 0, 0, has_year_zero=False),\n",
       "       cftime.DatetimeJulian(1954, 2, 15, 0, 0, 0, 0, has_year_zero=False),\n",
       "       cftime.DatetimeJulian(1955, 2, 15, 0, 0, 0, 0, has_year_zero=False),\n",
       "       cftime.DatetimeJulian(1956, 2, 15, 0, 0, 0, 0, has_year_zero=False),\n",
       "       cftime.DatetimeJulian(1957, 2, 15, 0, 0, 0, 0, has_year_zero=False),\n",
       "       cftime.DatetimeJulian(1958, 2, 15, 0, 0, 0, 0, has_year_zero=False),\n",
       "       cftime.DatetimeJulian(1959, 2, 15, 0, 0, 0, 0, has_year_zero=False),\n",
       "       cftime.DatetimeJulian(1960, 2, 15, 0, 0, 0, 0, has_year_zero=False),\n",
       "       cftime.DatetimeJulian(1961, 2, 15, 0, 0, 0, 0, has_year_zero=False),\n",
       "       cftime.DatetimeJulian(1962, 2, 15, 0, 0, 0, 0, has_year_zero=False),\n",
       "       cftime.DatetimeJulian(1963, 2, 15, 0, 0, 0, 0, has_year_zero=False),\n",
       "       cftime.DatetimeJulian(1964, 2, 15, 0, 0, 0, 0, has_year_zero=False),\n",
       "       cftime.DatetimeJulian(1965, 2, 15, 0, 0, 0, 0, has_year_zero=False),\n",
       "       cftime.DatetimeJulian(1966, 2, 15, 0, 0, 0, 0, has_year_zero=False),\n",
       "       cftime.DatetimeJulian(1967, 2, 15, 0, 0, 0, 0, has_year_zero=False),\n",
       "       cftime.DatetimeJulian(1968, 2, 15, 0, 0, 0, 0, has_year_zero=False),\n",
       "       cftime.DatetimeJulian(1969, 2, 15, 0, 0, 0, 0, has_year_zero=False),\n",
       "       cftime.DatetimeJulian(1970, 2, 15, 0, 0, 0, 0, has_year_zero=False),\n",
       "       cftime.DatetimeJulian(1971, 2, 15, 0, 0, 0, 0, has_year_zero=False),\n",
       "       cftime.DatetimeJulian(1972, 2, 15, 0, 0, 0, 0, has_year_zero=False),\n",
       "       cftime.DatetimeJulian(1973, 2, 15, 0, 0, 0, 0, has_year_zero=False),\n",
       "       cftime.DatetimeJulian(1974, 2, 15, 0, 0, 0, 0, has_year_zero=False),\n",
       "       cftime.DatetimeJulian(1975, 2, 15, 0, 0, 0, 0, has_year_zero=False),\n",
       "       cftime.DatetimeJulian(1976, 2, 15, 0, 0, 0, 0, has_year_zero=False),\n",
       "       cftime.DatetimeJulian(1977, 2, 15, 0, 0, 0, 0, has_year_zero=False),\n",
       "       cftime.DatetimeJulian(1978, 2, 15, 0, 0, 0, 0, has_year_zero=False),\n",
       "       cftime.DatetimeJulian(1979, 2, 15, 0, 0, 0, 0, has_year_zero=False),\n",
       "       cftime.DatetimeJulian(1980, 2, 15, 0, 0, 0, 0, has_year_zero=False),\n",
       "       cftime.DatetimeJulian(1981, 2, 15, 0, 0, 0, 0, has_year_zero=False),\n",
       "       cftime.DatetimeJulian(1982, 2, 15, 0, 0, 0, 0, has_year_zero=False),\n",
       "       cftime.DatetimeJulian(1983, 2, 15, 0, 0, 0, 0, has_year_zero=False),\n",
       "       cftime.DatetimeJulian(1984, 2, 15, 0, 0, 0, 0, has_year_zero=False),\n",
       "       cftime.DatetimeJulian(1985, 2, 15, 0, 0, 0, 0, has_year_zero=False),\n",
       "       cftime.DatetimeJulian(1986, 2, 15, 0, 0, 0, 0, has_year_zero=False),\n",
       "       cftime.DatetimeJulian(1987, 2, 15, 0, 0, 0, 0, has_year_zero=False),\n",
       "       cftime.DatetimeJulian(1988, 2, 15, 0, 0, 0, 0, has_year_zero=False),\n",
       "       cftime.DatetimeJulian(1989, 2, 15, 0, 0, 0, 0, has_year_zero=False),\n",
       "       cftime.DatetimeJulian(1990, 2, 15, 0, 0, 0, 0, has_year_zero=False),\n",
       "       cftime.DatetimeJulian(1991, 2, 15, 0, 0, 0, 0, has_year_zero=False),\n",
       "       cftime.DatetimeJulian(1992, 2, 15, 0, 0, 0, 0, has_year_zero=False),\n",
       "       cftime.DatetimeJulian(1993, 2, 15, 0, 0, 0, 0, has_year_zero=False),\n",
       "       cftime.DatetimeJulian(1994, 2, 15, 0, 0, 0, 0, has_year_zero=False),\n",
       "       cftime.DatetimeJulian(1995, 2, 15, 0, 0, 0, 0, has_year_zero=False),\n",
       "       cftime.DatetimeJulian(1996, 2, 15, 0, 0, 0, 0, has_year_zero=False),\n",
       "       cftime.DatetimeJulian(1997, 2, 15, 0, 0, 0, 0, has_year_zero=False),\n",
       "       cftime.DatetimeJulian(1998, 2, 15, 0, 0, 0, 0, has_year_zero=False),\n",
       "       cftime.DatetimeJulian(1999, 2, 15, 0, 0, 0, 0, has_year_zero=False),\n",
       "       cftime.DatetimeJulian(2000, 2, 15, 0, 0, 0, 0, has_year_zero=False),\n",
       "       cftime.DatetimeJulian(2001, 2, 15, 0, 0, 0, 0, has_year_zero=False),\n",
       "       cftime.DatetimeJulian(2002, 2, 15, 0, 0, 0, 0, has_year_zero=False),\n",
       "       cftime.DatetimeJulian(2003, 2, 15, 0, 0, 0, 0, has_year_zero=False),\n",
       "       cftime.DatetimeJulian(2004, 2, 15, 0, 0, 0, 0, has_year_zero=False),\n",
       "       cftime.DatetimeJulian(2005, 2, 15, 0, 0, 0, 0, has_year_zero=False),\n",
       "       cftime.DatetimeJulian(2006, 2, 15, 0, 0, 0, 0, has_year_zero=False),\n",
       "       cftime.DatetimeJulian(2007, 2, 15, 0, 0, 0, 0, has_year_zero=False),\n",
       "       cftime.DatetimeJulian(2008, 2, 15, 0, 0, 0, 0, has_year_zero=False),\n",
       "       cftime.DatetimeJulian(2009, 2, 15, 0, 0, 0, 0, has_year_zero=False),\n",
       "       cftime.DatetimeJulian(2010, 2, 15, 0, 0, 0, 0, has_year_zero=False),\n",
       "       cftime.DatetimeJulian(2011, 2, 15, 0, 0, 0, 0, has_year_zero=False),\n",
       "       cftime.DatetimeJulian(2012, 2, 15, 0, 0, 0, 0, has_year_zero=False),\n",
       "       cftime.DatetimeJulian(2013, 2, 15, 0, 0, 0, 0, has_year_zero=False),\n",
       "       cftime.DatetimeJulian(2014, 2, 15, 0, 0, 0, 0, has_year_zero=False),\n",
       "       cftime.DatetimeJulian(2015, 2, 15, 0, 0, 0, 0, has_year_zero=False),\n",
       "       cftime.DatetimeJulian(2016, 2, 15, 0, 0, 0, 0, has_year_zero=False),\n",
       "       cftime.DatetimeJulian(2017, 2, 15, 0, 0, 0, 0, has_year_zero=False),\n",
       "       cftime.DatetimeJulian(2018, 2, 15, 0, 0, 0, 0, has_year_zero=False),\n",
       "       cftime.DatetimeJulian(2019, 2, 15, 0, 0, 0, 0, has_year_zero=False),\n",
       "       cftime.DatetimeJulian(2020, 2, 15, 0, 0, 0, 0, has_year_zero=False),\n",
       "       cftime.DatetimeJulian(2021, 2, 15, 0, 0, 0, 0, has_year_zero=False),\n",
       "       cftime.DatetimeJulian(2022, 2, 15, 0, 0, 0, 0, has_year_zero=False)],\n",
       "      dtype=object)</pre></div></li></ul></div></li><li class='xr-section-item'><input id='section-a0727017-56da-4d46-bb44-22aea061e0a4' class='xr-section-summary-in' type='checkbox'  checked><label for='section-a0727017-56da-4d46-bb44-22aea061e0a4' class='xr-section-summary' >Data variables: <span>(1)</span></label><div class='xr-section-inline-details'></div><div class='xr-section-details'><ul class='xr-var-list'><li class='xr-var-item'><div class='xr-var-name'><span>tas</span></div><div class='xr-var-dims'>(time)</div><div class='xr-var-dtype'>float64</div><div class='xr-var-preview xr-preview'>dask.array&lt;chunksize=(112,), meta=np.ndarray&gt;</div><input id='attrs-0cad6d70-cb6f-4f3c-b358-e1aff3930980' class='xr-var-attrs-in' type='checkbox' ><label for='attrs-0cad6d70-cb6f-4f3c-b358-e1aff3930980' title='Show/Hide attributes'><svg class='icon xr-icon-file-text2'><use xlink:href='#icon-file-text2'></use></svg></label><input id='data-6da18ce1-8f6a-42f7-aa87-73c922ec6a80' class='xr-var-data-in' type='checkbox'><label for='data-6da18ce1-8f6a-42f7-aa87-73c922ec6a80' title='Show/Hide data repr'><svg class='icon xr-icon-database'><use xlink:href='#icon-database'></use></svg></label><div class='xr-var-attrs'><dl class='xr-attrs'><dt><span>standard_name :</span></dt><dd>air_temperature</dd><dt><span>long_name :</span></dt><dd>DJF Mean Near-Surface Air Temperature for Australia</dd><dt><span>units :</span></dt><dd>C</dd></dl></div><div class='xr-var-data'><table>\n",
       "<tr>\n",
       "<td>\n",
       "<table>\n",
       "  <thead>\n",
       "    <tr><td> </td><th> Array </th><th> Chunk </th></tr>\n",
       "  </thead>\n",
       "  <tbody>\n",
       "    <tr><th> Bytes </th><td> 896 B </td> <td> 896 B </td></tr>\n",
       "    <tr><th> Shape </th><td> (112,) </td> <td> (112,) </td></tr>\n",
       "    <tr><th> Count </th><td> 2 Tasks </td><td> 1 Chunks </td></tr>\n",
       "    <tr><th> Type </th><td> float64 </td><td> numpy.ndarray </td></tr>\n",
       "  </tbody>\n",
       "</table>\n",
       "</td>\n",
       "<td>\n",
       "<svg width=\"170\" height=\"75\" style=\"stroke:rgb(0,0,0);stroke-width:1\" >\n",
       "\n",
       "  <!-- Horizontal lines -->\n",
       "  <line x1=\"0\" y1=\"0\" x2=\"120\" y2=\"0\" style=\"stroke-width:2\" />\n",
       "  <line x1=\"0\" y1=\"25\" x2=\"120\" y2=\"25\" style=\"stroke-width:2\" />\n",
       "\n",
       "  <!-- Vertical lines -->\n",
       "  <line x1=\"0\" y1=\"0\" x2=\"0\" y2=\"25\" style=\"stroke-width:2\" />\n",
       "  <line x1=\"120\" y1=\"0\" x2=\"120\" y2=\"25\" style=\"stroke-width:2\" />\n",
       "\n",
       "  <!-- Colored Rectangle -->\n",
       "  <polygon points=\"0.0,0.0 120.0,0.0 120.0,25.412616514582485 0.0,25.412616514582485\" style=\"fill:#ECB172A0;stroke-width:0\"/>\n",
       "\n",
       "  <!-- Text -->\n",
       "  <text x=\"60.000000\" y=\"45.412617\" font-size=\"1.0rem\" font-weight=\"100\" text-anchor=\"middle\" >112</text>\n",
       "  <text x=\"140.000000\" y=\"12.706308\" font-size=\"1.0rem\" font-weight=\"100\" text-anchor=\"middle\" transform=\"rotate(0,140.000000,12.706308)\">1</text>\n",
       "</svg>\n",
       "</td>\n",
       "</tr>\n",
       "</table></div></li></ul></div></li><li class='xr-section-item'><input id='section-bebb4886-85af-4fd4-9f1d-2036cbafd1b4' class='xr-section-summary-in' type='checkbox'  checked><label for='section-bebb4886-85af-4fd4-9f1d-2036cbafd1b4' class='xr-section-summary' >Attributes: <span>(2)</span></label><div class='xr-section-inline-details'></div><div class='xr-section-details'><dl class='xr-attrs'><dt><span>history :</span></dt><dd>Mon Oct 03 10:31:06 2022: /g/data/xv83/dbi599/miniconda3/envs/unseen/bin/python bom_txt_to_nc.py /g/data/xv83/dbi599/summer-heat/data/tas_BoM_1911-2022_DJF_aus-mean.txt 27.5 http://www.bom.gov.au/climate/change/index.shtml /g/data/xv83/dbi599/summer-heat/data/tas_BoM_1911-2022_DJF_aus-mean.nc</dd><dt><span>source :</span></dt><dd>http://www.bom.gov.au/climate/change/index.shtml</dd></dl></div></li></ul></div></div>"
      ],
      "text/plain": [
       "<xarray.Dataset>\n",
       "Dimensions:  (time: 112)\n",
       "Coordinates:\n",
       "  * time     (time) object 1911-02-15 00:00:00 ... 2022-02-15 00:00:00\n",
       "Data variables:\n",
       "    tas      (time) float64 dask.array<chunksize=(112,), meta=np.ndarray>\n",
       "Attributes:\n",
       "    history:  Mon Oct 03 10:31:06 2022: /g/data/xv83/dbi599/miniconda3/envs/u...\n",
       "    source:   http://www.bom.gov.au/climate/change/index.shtml"
      ]
     },
     "execution_count": 7,
     "metadata": {},
     "output_type": "execute_result"
    }
   ],
   "source": [
    "bom_ds"
   ]
  },
  {
   "cell_type": "code",
   "execution_count": 8,
   "id": "9c701895",
   "metadata": {
    "execution": {
     "iopub.execute_input": "2022-10-03T05:09:27.000905Z",
     "iopub.status.busy": "2022-10-03T05:09:27.000564Z",
     "iopub.status.idle": "2022-10-03T05:09:27.005961Z",
     "shell.execute_reply": "2022-10-03T05:09:27.006287Z"
    },
    "papermill": {
     "duration": 0.031547,
     "end_time": "2022-10-03T05:09:27.006397",
     "exception": false,
     "start_time": "2022-10-03T05:09:26.974850",
     "status": "completed"
    },
    "tags": []
   },
   "outputs": [],
   "source": [
    "years = bom_ds['time'].dt.year.values\n",
    "bom_df = pd.DataFrame(index=years)\n",
    "bom_df['tas'] = bom_ds['tas'].values"
   ]
  },
  {
   "cell_type": "code",
   "execution_count": 9,
   "id": "6c1bcdcc",
   "metadata": {
    "execution": {
     "iopub.execute_input": "2022-10-03T05:09:27.054769Z",
     "iopub.status.busy": "2022-10-03T05:09:27.054344Z",
     "iopub.status.idle": "2022-10-03T05:09:27.058847Z",
     "shell.execute_reply": "2022-10-03T05:09:27.058422Z"
    },
    "papermill": {
     "duration": 0.030753,
     "end_time": "2022-10-03T05:09:27.058935",
     "exception": false,
     "start_time": "2022-10-03T05:09:27.028182",
     "status": "completed"
    },
    "tags": []
   },
   "outputs": [
    {
     "name": "stdout",
     "output_type": "stream",
     "text": [
      "tas    27.461161\n",
      "dtype: float64\n"
     ]
    }
   ],
   "source": [
    "mean_temperature = bom_df.mean()\n",
    "print(mean_temperature)"
   ]
  },
  {
   "cell_type": "code",
   "execution_count": 10,
   "id": "c8bfcbcf",
   "metadata": {
    "execution": {
     "iopub.execute_input": "2022-10-03T05:09:27.105403Z",
     "iopub.status.busy": "2022-10-03T05:09:27.105044Z",
     "iopub.status.idle": "2022-10-03T05:09:27.110348Z",
     "shell.execute_reply": "2022-10-03T05:09:27.110081Z"
    },
    "papermill": {
     "duration": 0.027477,
     "end_time": "2022-10-03T05:09:27.110419",
     "exception": false,
     "start_time": "2022-10-03T05:09:27.082942",
     "status": "completed"
    },
    "tags": []
   },
   "outputs": [
    {
     "name": "stdout",
     "output_type": "stream",
     "text": [
      "29.61\n"
     ]
    }
   ],
   "source": [
    "tas2019 = bom_ds['tas'].values.max()\n",
    "print(tas2019)"
   ]
  },
  {
   "cell_type": "code",
   "execution_count": 11,
   "id": "527ce770",
   "metadata": {
    "execution": {
     "iopub.execute_input": "2022-10-03T05:09:27.152721Z",
     "iopub.status.busy": "2022-10-03T05:09:27.152398Z",
     "iopub.status.idle": "2022-10-03T05:09:27.156380Z",
     "shell.execute_reply": "2022-10-03T05:09:27.156694Z"
    },
    "papermill": {
     "duration": 0.030491,
     "end_time": "2022-10-03T05:09:27.156797",
     "exception": false,
     "start_time": "2022-10-03T05:09:27.126306",
     "status": "completed"
    },
    "tags": []
   },
   "outputs": [
    {
     "data": {
      "text/plain": [
       "2019    29.61\n",
       "2020    29.34\n",
       "2013    28.79\n",
       "2018    28.64\n",
       "1998    28.61\n",
       "2015    28.52\n",
       "2016    28.46\n",
       "1983    28.42\n",
       "1973    28.40\n",
       "2006    28.39\n",
       "Name: tas, dtype: float64"
      ]
     },
     "execution_count": 11,
     "metadata": {},
     "output_type": "execute_result"
    }
   ],
   "source": [
    "ranked_years = bom_df['tas'].sort_values(ascending=False)\n",
    "ranked_years.head(n=10)"
   ]
  },
  {
   "cell_type": "code",
   "execution_count": 12,
   "id": "e31dba77",
   "metadata": {
    "execution": {
     "iopub.execute_input": "2022-10-03T05:09:27.219220Z",
     "iopub.status.busy": "2022-10-03T05:09:27.216836Z",
     "iopub.status.idle": "2022-10-03T05:09:27.280191Z",
     "shell.execute_reply": "2022-10-03T05:09:27.279264Z"
    },
    "papermill": {
     "duration": 0.103054,
     "end_time": "2022-10-03T05:09:27.280410",
     "exception": false,
     "start_time": "2022-10-03T05:09:27.177356",
     "status": "completed"
    },
    "tags": []
   },
   "outputs": [
    {
     "name": "stdout",
     "output_type": "stream",
     "text": [
      "Shape parameter: 0.18\n",
      "Location parameter: 27.20\n",
      "Scale parameter: 0.62\n"
     ]
    }
   ],
   "source": [
    "bom_gev_shape, bom_gev_loc, bom_gev_scale = indices.fit_gev(bom_df['tas'].values)\n",
    "print(f'Shape parameter: {bom_gev_shape:.2f}')\n",
    "print(f'Location parameter: {bom_gev_loc:.2f}')\n",
    "print(f'Scale parameter: {bom_gev_scale:.2f}')"
   ]
  },
  {
   "cell_type": "code",
   "execution_count": 13,
   "id": "806ebb06",
   "metadata": {
    "execution": {
     "iopub.execute_input": "2022-10-03T05:09:27.352858Z",
     "iopub.status.busy": "2022-10-03T05:09:27.349959Z",
     "iopub.status.idle": "2022-10-03T05:09:27.843873Z",
     "shell.execute_reply": "2022-10-03T05:09:27.844758Z"
    },
    "papermill": {
     "duration": 0.527507,
     "end_time": "2022-10-03T05:09:27.845018",
     "exception": false,
     "start_time": "2022-10-03T05:09:27.317511",
     "status": "completed"
    },
    "tags": []
   },
   "outputs": [
    {
     "data": {
      "image/png": "[encoded data removed]",
      "text/plain": [
       "<Figure size 720x576 with 1 Axes>"
      ]
     },
     "metadata": {
      "needs_background": "light"
     },
     "output_type": "display_data"
    }
   ],
   "source": [
    "fig, ax = plt.subplots(figsize=[10, 8])\n",
    "gev_xvals = np.arange(25, 30.5, 0.1)\n",
    "bom_df['tas'].plot.hist(bins=40, density=True, color='tab:green', alpha=0.5)\n",
    "bom_gev_pdf = gev.pdf(gev_xvals, bom_gev_shape, bom_gev_loc, bom_gev_scale)\n",
    "plt.plot(gev_xvals, bom_gev_pdf, color='tab:green', linewidth=4.0)\n",
    "plt.xlabel('temperature (C)')\n",
    "plt.ylabel('probability')\n",
    "plt.title(f'DJF mean temperature for Australia (BoM)')\n",
    "plt.savefig(\n",
    "    f'/g/data/xv83/dbi599/summer-heat/figures/djf_tas_histogram_aus_BoM.png',\n",
    "    bbox_inches='tight',\n",
    "    facecolor='white',\n",
    "    dpi=dpi\n",
    ")"
   ]
  },
  {
   "cell_type": "code",
   "execution_count": 14,
   "id": "2b8059b4",
   "metadata": {
    "execution": {
     "iopub.execute_input": "2022-10-03T05:09:27.900705Z",
     "iopub.status.busy": "2022-10-03T05:09:27.900364Z",
     "iopub.status.idle": "2022-10-03T05:09:27.903924Z",
     "shell.execute_reply": "2022-10-03T05:09:27.903628Z"
    },
    "papermill": {
     "duration": 0.02503,
     "end_time": "2022-10-03T05:09:27.903995",
     "exception": false,
     "start_time": "2022-10-03T05:09:27.878965",
     "status": "completed"
    },
    "tags": []
   },
   "outputs": [
    {
     "name": "stdout",
     "output_type": "stream",
     "text": [
      "759 year return period\n",
      "99.87% percentile\n"
     ]
    }
   ],
   "source": [
    "event_probability = gev.sf(tas2019, bom_gev_shape, loc=bom_gev_loc, scale=bom_gev_scale)\n",
    "event_return_period = 1. / event_probability\n",
    "event_percentile = (1 - event_probability) * 100\n",
    "print(f'{event_return_period:.0f} year return period')\n",
    "print(f'{event_percentile:.2f}% percentile')"
   ]
  },
  {
   "cell_type": "markdown",
   "id": "d082e6af",
   "metadata": {
    "papermill": {
     "duration": 0.017191,
     "end_time": "2022-10-03T05:09:27.940800",
     "exception": false,
     "start_time": "2022-10-03T05:09:27.923609",
     "status": "completed"
    },
    "tags": []
   },
   "source": [
    "## Model ensemble"
   ]
  },
  {
   "cell_type": "code",
   "execution_count": 15,
   "id": "1620b927",
   "metadata": {
    "execution": {
     "iopub.execute_input": "2022-10-03T05:09:27.979712Z",
     "iopub.status.busy": "2022-10-03T05:09:27.979393Z",
     "iopub.status.idle": "2022-10-03T05:09:28.020416Z",
     "shell.execute_reply": "2022-10-03T05:09:28.019519Z"
    },
    "papermill": {
     "duration": 0.062685,
     "end_time": "2022-10-03T05:09:28.020644",
     "exception": false,
     "start_time": "2022-10-03T05:09:27.957959",
     "status": "completed"
    },
    "tags": []
   },
   "outputs": [],
   "source": [
    "model_ds = fileio.open_dataset(model_file)\n",
    "model_bc_ds = fileio.open_dataset(model_bc_file)"
   ]
  },
  {
   "cell_type": "code",
   "execution_count": 16,
   "id": "b3d4100a",
   "metadata": {
    "execution": {
     "iopub.execute_input": "2022-10-03T05:09:28.083784Z",
     "iopub.status.busy": "2022-10-03T05:09:28.078423Z",
     "iopub.status.idle": "2022-10-03T05:09:28.092919Z",
     "shell.execute_reply": "2022-10-03T05:09:28.093796Z"
    },
    "papermill": {
     "duration": 0.038106,
     "end_time": "2022-10-03T05:09:28.094057",
     "exception": false,
     "start_time": "2022-10-03T05:09:28.055951",
     "status": "completed"
    },
    "tags": []
   },
   "outputs": [
    {
     "data": {
      "text/html": [
       "<div><svg style=\"position: absolute; width: 0; height: 0; overflow: hidden\">\n",
       "<defs>\n",
       "<symbol id=\"icon-database\" viewBox=\"0 0 32 32\">\n",
       "<path d=\"M16 0c-8.837 0-16 2.239-16 5v4c0 2.761 7.163 5 16 5s16-2.239 16-5v-4c0-2.761-7.163-5-16-5z\"></path>\n",
       "<path d=\"M16 17c-8.837 0-16-2.239-16-5v6c0 2.761 7.163 5 16 5s16-2.239 16-5v-6c0 2.761-7.163 5-16 5z\"></path>\n",
       "<path d=\"M16 26c-8.837 0-16-2.239-16-5v6c0 2.761 7.163 5 16 5s16-2.239 16-5v-6c0 2.761-7.163 5-16 5z\"></path>\n",
       "</symbol>\n",
       "<symbol id=\"icon-file-text2\" viewBox=\"0 0 32 32\">\n",
       "<path d=\"M28.681 7.159c-0.694-0.947-1.662-2.053-2.724-3.116s-2.169-2.030-3.116-2.724c-1.612-1.182-2.393-1.319-2.841-1.319h-15.5c-1.378 0-2.5 1.121-2.5 2.5v27c0 1.378 1.122 2.5 2.5 2.5h23c1.378 0 2.5-1.122 2.5-2.5v-19.5c0-0.448-0.137-1.23-1.319-2.841zM24.543 5.457c0.959 0.959 1.712 1.825 2.268 2.543h-4.811v-4.811c0.718 0.556 1.584 1.309 2.543 2.268zM28 29.5c0 0.271-0.229 0.5-0.5 0.5h-23c-0.271 0-0.5-0.229-0.5-0.5v-27c0-0.271 0.229-0.5 0.5-0.5 0 0 15.499-0 15.5 0v7c0 0.552 0.448 1 1 1h7v19.5z\"></path>\n",
       "<path d=\"M23 26h-14c-0.552 0-1-0.448-1-1s0.448-1 1-1h14c0.552 0 1 0.448 1 1s-0.448 1-1 1z\"></path>\n",
       "<path d=\"M23 22h-14c-0.552 0-1-0.448-1-1s0.448-1 1-1h14c0.552 0 1 0.448 1 1s-0.448 1-1 1z\"></path>\n",
       "<path d=\"M23 18h-14c-0.552 0-1-0.448-1-1s0.448-1 1-1h14c0.552 0 1 0.448 1 1s-0.448 1-1 1z\"></path>\n",
       "</symbol>\n",
       "</defs>\n",
       "</svg>\n",
       "<style>/* CSS stylesheet for displaying xarray objects in jupyterlab.\n",
       " *\n",
       " */\n",
       "\n",
       ":root {\n",
       "  --xr-font-color0: var(--jp-content-font-color0, rgba(0, 0, 0, 1));\n",
       "  --xr-font-color2: var(--jp-content-font-color2, rgba(0, 0, 0, 0.54));\n",
       "  --xr-font-color3: var(--jp-content-font-color3, rgba(0, 0, 0, 0.38));\n",
       "  --xr-border-color: var(--jp-border-color2, #e0e0e0);\n",
       "  --xr-disabled-color: var(--jp-layout-color3, #bdbdbd);\n",
       "  --xr-background-color: var(--jp-layout-color0, white);\n",
       "  --xr-background-color-row-even: var(--jp-layout-color1, white);\n",
       "  --xr-background-color-row-odd: var(--jp-layout-color2, #eeeeee);\n",
       "}\n",
       "\n",
       "html[theme=dark],\n",
       "body.vscode-dark {\n",
       "  --xr-font-color0: rgba(255, 255, 255, 1);\n",
       "  --xr-font-color2: rgba(255, 255, 255, 0.54);\n",
       "  --xr-font-color3: rgba(255, 255, 255, 0.38);\n",
       "  --xr-border-color: #1F1F1F;\n",
       "  --xr-disabled-color: #515151;\n",
       "  --xr-background-color: #111111;\n",
       "  --xr-background-color-row-even: #111111;\n",
       "  --xr-background-color-row-odd: #313131;\n",
       "}\n",
       "\n",
       ".xr-wrap {\n",
       "  display: block !important;\n",
       "  min-width: 300px;\n",
       "  max-width: 700px;\n",
       "}\n",
       "\n",
       ".xr-text-repr-fallback {\n",
       "  /* fallback to plain text repr when CSS is not injected (untrusted notebook) */\n",
       "  display: none;\n",
       "}\n",
       "\n",
       ".xr-header {\n",
       "  padding-top: 6px;\n",
       "  padding-bottom: 6px;\n",
       "  margin-bottom: 4px;\n",
       "  border-bottom: solid 1px var(--xr-border-color);\n",
       "}\n",
       "\n",
       ".xr-header > div,\n",
       ".xr-header > ul {\n",
       "  display: inline;\n",
       "  margin-top: 0;\n",
       "  margin-bottom: 0;\n",
       "}\n",
       "\n",
       ".xr-obj-type,\n",
       ".xr-array-name {\n",
       "  margin-left: 2px;\n",
       "  margin-right: 10px;\n",
       "}\n",
       "\n",
       ".xr-obj-type {\n",
       "  color: var(--xr-font-color2);\n",
       "}\n",
       "\n",
       ".xr-sections {\n",
       "  padding-left: 0 !important;\n",
       "  display: grid;\n",
       "  grid-template-columns: 150px auto auto 1fr 20px 20px;\n",
       "}\n",
       "\n",
       ".xr-section-item {\n",
       "  display: contents;\n",
       "}\n",
       "\n",
       ".xr-section-item input {\n",
       "  display: none;\n",
       "}\n",
       "\n",
       ".xr-section-item input + label {\n",
       "  color: var(--xr-disabled-color);\n",
       "}\n",
       "\n",
       ".xr-section-item input:enabled + label {\n",
       "  cursor: pointer;\n",
       "  color: var(--xr-font-color2);\n",
       "}\n",
       "\n",
       ".xr-section-item input:enabled + label:hover {\n",
       "  color: var(--xr-font-color0);\n",
       "}\n",
       "\n",
       ".xr-section-summary {\n",
       "  grid-column: 1;\n",
       "  color: var(--xr-font-color2);\n",
       "  font-weight: 500;\n",
       "}\n",
       "\n",
       ".xr-section-summary > span {\n",
       "  display: inline-block;\n",
       "  padding-left: 0.5em;\n",
       "}\n",
       "\n",
       ".xr-section-summary-in:disabled + label {\n",
       "  color: var(--xr-font-color2);\n",
       "}\n",
       "\n",
       ".xr-section-summary-in + label:before {\n",
       "  display: inline-block;\n",
       "  content: '►';\n",
       "  font-size: 11px;\n",
       "  width: 15px;\n",
       "  text-align: center;\n",
       "}\n",
       "\n",
       ".xr-section-summary-in:disabled + label:before {\n",
       "  color: var(--xr-disabled-color);\n",
       "}\n",
       "\n",
       ".xr-section-summary-in:checked + label:before {\n",
       "  content: '▼';\n",
       "}\n",
       "\n",
       ".xr-section-summary-in:checked + label > span {\n",
       "  display: none;\n",
       "}\n",
       "\n",
       ".xr-section-summary,\n",
       ".xr-section-inline-details {\n",
       "  padding-top: 4px;\n",
       "  padding-bottom: 4px;\n",
       "}\n",
       "\n",
       ".xr-section-inline-details {\n",
       "  grid-column: 2 / -1;\n",
       "}\n",
       "\n",
       ".xr-section-details {\n",
       "  display: none;\n",
       "  grid-column: 1 / -1;\n",
       "  margin-bottom: 5px;\n",
       "}\n",
       "\n",
       ".xr-section-summary-in:checked ~ .xr-section-details {\n",
       "  display: contents;\n",
       "}\n",
       "\n",
       ".xr-array-wrap {\n",
       "  grid-column: 1 / -1;\n",
       "  display: grid;\n",
       "  grid-template-columns: 20px auto;\n",
       "}\n",
       "\n",
       ".xr-array-wrap > label {\n",
       "  grid-column: 1;\n",
       "  vertical-align: top;\n",
       "}\n",
       "\n",
       ".xr-preview {\n",
       "  color: var(--xr-font-color3);\n",
       "}\n",
       "\n",
       ".xr-array-preview,\n",
       ".xr-array-data {\n",
       "  padding: 0 5px !important;\n",
       "  grid-column: 2;\n",
       "}\n",
       "\n",
       ".xr-array-data,\n",
       ".xr-array-in:checked ~ .xr-array-preview {\n",
       "  display: none;\n",
       "}\n",
       "\n",
       ".xr-array-in:checked ~ .xr-array-data,\n",
       ".xr-array-preview {\n",
       "  display: inline-block;\n",
       "}\n",
       "\n",
       ".xr-dim-list {\n",
       "  display: inline-block !important;\n",
       "  list-style: none;\n",
       "  padding: 0 !important;\n",
       "  margin: 0;\n",
       "}\n",
       "\n",
       ".xr-dim-list li {\n",
       "  display: inline-block;\n",
       "  padding: 0;\n",
       "  margin: 0;\n",
       "}\n",
       "\n",
       ".xr-dim-list:before {\n",
       "  content: '(';\n",
       "}\n",
       "\n",
       ".xr-dim-list:after {\n",
       "  content: ')';\n",
       "}\n",
       "\n",
       ".xr-dim-list li:not(:last-child):after {\n",
       "  content: ',';\n",
       "  padding-right: 5px;\n",
       "}\n",
       "\n",
       ".xr-has-index {\n",
       "  font-weight: bold;\n",
       "}\n",
       "\n",
       ".xr-var-list,\n",
       ".xr-var-item {\n",
       "  display: contents;\n",
       "}\n",
       "\n",
       ".xr-var-item > div,\n",
       ".xr-var-item label,\n",
       ".xr-var-item > .xr-var-name span {\n",
       "  background-color: var(--xr-background-color-row-even);\n",
       "  margin-bottom: 0;\n",
       "}\n",
       "\n",
       ".xr-var-item > .xr-var-name:hover span {\n",
       "  padding-right: 5px;\n",
       "}\n",
       "\n",
       ".xr-var-list > li:nth-child(odd) > div,\n",
       ".xr-var-list > li:nth-child(odd) > label,\n",
       ".xr-var-list > li:nth-child(odd) > .xr-var-name span {\n",
       "  background-color: var(--xr-background-color-row-odd);\n",
       "}\n",
       "\n",
       ".xr-var-name {\n",
       "  grid-column: 1;\n",
       "}\n",
       "\n",
       ".xr-var-dims {\n",
       "  grid-column: 2;\n",
       "}\n",
       "\n",
       ".xr-var-dtype {\n",
       "  grid-column: 3;\n",
       "  text-align: right;\n",
       "  color: var(--xr-font-color2);\n",
       "}\n",
       "\n",
       ".xr-var-preview {\n",
       "  grid-column: 4;\n",
       "}\n",
       "\n",
       ".xr-var-name,\n",
       ".xr-var-dims,\n",
       ".xr-var-dtype,\n",
       ".xr-preview,\n",
       ".xr-attrs dt {\n",
       "  white-space: nowrap;\n",
       "  overflow: hidden;\n",
       "  text-overflow: ellipsis;\n",
       "  padding-right: 10px;\n",
       "}\n",
       "\n",
       ".xr-var-name:hover,\n",
       ".xr-var-dims:hover,\n",
       ".xr-var-dtype:hover,\n",
       ".xr-attrs dt:hover {\n",
       "  overflow: visible;\n",
       "  width: auto;\n",
       "  z-index: 1;\n",
       "}\n",
       "\n",
       ".xr-var-attrs,\n",
       ".xr-var-data {\n",
       "  display: none;\n",
       "  background-color: var(--xr-background-color) !important;\n",
       "  padding-bottom: 5px !important;\n",
       "}\n",
       "\n",
       ".xr-var-attrs-in:checked ~ .xr-var-attrs,\n",
       ".xr-var-data-in:checked ~ .xr-var-data {\n",
       "  display: block;\n",
       "}\n",
       "\n",
       ".xr-var-data > table {\n",
       "  float: right;\n",
       "}\n",
       "\n",
       ".xr-var-name span,\n",
       ".xr-var-data,\n",
       ".xr-attrs {\n",
       "  padding-left: 25px !important;\n",
       "}\n",
       "\n",
       ".xr-attrs,\n",
       ".xr-var-attrs,\n",
       ".xr-var-data {\n",
       "  grid-column: 1 / -1;\n",
       "}\n",
       "\n",
       "dl.xr-attrs {\n",
       "  padding: 0;\n",
       "  margin: 0;\n",
       "  display: grid;\n",
       "  grid-template-columns: 125px auto;\n",
       "}\n",
       "\n",
       ".xr-attrs dt,\n",
       ".xr-attrs dd {\n",
       "  padding: 0;\n",
       "  margin: 0;\n",
       "  float: left;\n",
       "  padding-right: 10px;\n",
       "  width: auto;\n",
       "}\n",
       "\n",
       ".xr-attrs dt {\n",
       "  font-weight: normal;\n",
       "  grid-column: 1;\n",
       "}\n",
       "\n",
       ".xr-attrs dt:hover span {\n",
       "  display: inline-block;\n",
       "  background: var(--xr-background-color);\n",
       "  padding-right: 10px;\n",
       "}\n",
       "\n",
       ".xr-attrs dd {\n",
       "  grid-column: 2;\n",
       "  white-space: pre-wrap;\n",
       "  word-break: break-all;\n",
       "}\n",
       "\n",
       ".xr-icon-database,\n",
       ".xr-icon-file-text2 {\n",
       "  display: inline-block;\n",
       "  vertical-align: middle;\n",
       "  width: 1em;\n",
       "  height: 1.5em !important;\n",
       "  stroke-width: 0;\n",
       "  stroke: currentColor;\n",
       "  fill: currentColor;\n",
       "}\n",
       "</style><pre class='xr-text-repr-fallback'>&lt;xarray.Dataset&gt;\n",
       "Dimensions:    (ensemble: 10, init_date: 59, lead_time: 11)\n",
       "Coordinates:\n",
       "  * ensemble   (ensemble) int64 0 1 2 3 4 5 6 7 8 9\n",
       "    height     float64 ...\n",
       "  * init_date  (init_date) object 1960-11-16 00:00:00 ... 2018-11-16 00:00:00\n",
       "  * lead_time  (lead_time) int64 0 1 2 3 4 5 6 7 8 9 10\n",
       "    time       (lead_time, init_date) object dask.array&lt;chunksize=(11, 59), meta=np.ndarray&gt;\n",
       "Data variables:\n",
       "    tas        (init_date, ensemble, lead_time) float64 dask.array&lt;chunksize=(1, 1, 11), meta=np.ndarray&gt;\n",
       "Attributes: (12/48)\n",
       "    Conventions:               CF-1.7 CMIP-6.2\n",
       "    activity_id:               DCPP\n",
       "    branch_method:             no parent\n",
       "    branch_time:               0.0\n",
       "    branch_time_in_child:      0.0\n",
       "    branch_time_in_parent:     0.0\n",
       "    ...                        ...\n",
       "    table_info:                Creation Date:(20 July 2018) MD5:b534c310c852a...\n",
       "    title:                     EC-Earth3 output prepared for CMIP6\n",
       "    tracking_id:               hdl:21.14100/6f066f42-c15f-4e3b-90ae-696a5b70708a\n",
       "    variable_id:               tas\n",
       "    variant_info:              Atmosphere initialization based on full-fields...\n",
       "    variant_label:             r10i1p1f1</pre><div class='xr-wrap' style='display:none'><div class='xr-header'><div class='xr-obj-type'>xarray.Dataset</div></div><ul class='xr-sections'><li class='xr-section-item'><input id='section-30de2ba0-3ffe-4079-9082-f6c50a73a6f4' class='xr-section-summary-in' type='checkbox' disabled ><label for='section-30de2ba0-3ffe-4079-9082-f6c50a73a6f4' class='xr-section-summary'  title='Expand/collapse section'>Dimensions:</label><div class='xr-section-inline-details'><ul class='xr-dim-list'><li><span class='xr-has-index'>ensemble</span>: 10</li><li><span class='xr-has-index'>init_date</span>: 59</li><li><span class='xr-has-index'>lead_time</span>: 11</li></ul></div><div class='xr-section-details'></div></li><li class='xr-section-item'><input id='section-54e7e794-540d-4ce5-b9af-655d25d6b2f5' class='xr-section-summary-in' type='checkbox'  checked><label for='section-54e7e794-540d-4ce5-b9af-655d25d6b2f5' class='xr-section-summary' >Coordinates: <span>(5)</span></label><div class='xr-section-inline-details'></div><div class='xr-section-details'><ul class='xr-var-list'><li class='xr-var-item'><div class='xr-var-name'><span class='xr-has-index'>ensemble</span></div><div class='xr-var-dims'>(ensemble)</div><div class='xr-var-dtype'>int64</div><div class='xr-var-preview xr-preview'>0 1 2 3 4 5 6 7 8 9</div><input id='attrs-5a293a49-87a1-460d-8e67-a9a2205db5e2' class='xr-var-attrs-in' type='checkbox' disabled><label for='attrs-5a293a49-87a1-460d-8e67-a9a2205db5e2' title='Show/Hide attributes'><svg class='icon xr-icon-file-text2'><use xlink:href='#icon-file-text2'></use></svg></label><input id='data-4168076f-fb07-44c2-98f4-1419828b99e2' class='xr-var-data-in' type='checkbox'><label for='data-4168076f-fb07-44c2-98f4-1419828b99e2' title='Show/Hide data repr'><svg class='icon xr-icon-database'><use xlink:href='#icon-database'></use></svg></label><div class='xr-var-attrs'><dl class='xr-attrs'></dl></div><div class='xr-var-data'><pre>array([0, 1, 2, 3, 4, 5, 6, 7, 8, 9])</pre></div></li><li class='xr-var-item'><div class='xr-var-name'><span>height</span></div><div class='xr-var-dims'>()</div><div class='xr-var-dtype'>float64</div><div class='xr-var-preview xr-preview'>...</div><input id='attrs-c539d965-387e-47d6-8315-e69e1c1685f1' class='xr-var-attrs-in' type='checkbox' ><label for='attrs-c539d965-387e-47d6-8315-e69e1c1685f1' title='Show/Hide attributes'><svg class='icon xr-icon-file-text2'><use xlink:href='#icon-file-text2'></use></svg></label><input id='data-4cb90187-5c0e-40e7-a23d-5d856233b5b2' class='xr-var-data-in' type='checkbox'><label for='data-4cb90187-5c0e-40e7-a23d-5d856233b5b2' title='Show/Hide data repr'><svg class='icon xr-icon-database'><use xlink:href='#icon-database'></use></svg></label><div class='xr-var-attrs'><dl class='xr-attrs'><dt><span>axis :</span></dt><dd>Z</dd><dt><span>long_name :</span></dt><dd>height</dd><dt><span>positive :</span></dt><dd>up</dd><dt><span>standard_name :</span></dt><dd>height</dd><dt><span>units :</span></dt><dd>m</dd></dl></div><div class='xr-var-data'><pre>array(2.)</pre></div></li><li class='xr-var-item'><div class='xr-var-name'><span class='xr-has-index'>init_date</span></div><div class='xr-var-dims'>(init_date)</div><div class='xr-var-dtype'>object</div><div class='xr-var-preview xr-preview'>1960-11-16 00:00:00 ... 2018-11-...</div><input id='attrs-5506c432-6e61-443e-b3cc-28cd9ef9c0da' class='xr-var-attrs-in' type='checkbox' disabled><label for='attrs-5506c432-6e61-443e-b3cc-28cd9ef9c0da' title='Show/Hide attributes'><svg class='icon xr-icon-file-text2'><use xlink:href='#icon-file-text2'></use></svg></label><input id='data-2d26c939-c8ed-42da-8efe-9e960f162875' class='xr-var-data-in' type='checkbox'><label for='data-2d26c939-c8ed-42da-8efe-9e960f162875' title='Show/Hide data repr'><svg class='icon xr-icon-database'><use xlink:href='#icon-database'></use></svg></label><div class='xr-var-attrs'><dl class='xr-attrs'></dl></div><div class='xr-var-data'><pre>array([cftime.DatetimeJulian(1960, 11, 16, 0, 0, 0, 0, has_year_zero=False),\n",
       "       cftime.DatetimeJulian(1961, 11, 16, 0, 0, 0, 0, has_year_zero=False),\n",
       "       cftime.DatetimeJulian(1962, 11, 16, 0, 0, 0, 0, has_year_zero=False),\n",
       "       cftime.DatetimeJulian(1963, 11, 16, 0, 0, 0, 0, has_year_zero=False),\n",
       "       cftime.DatetimeJulian(1964, 11, 16, 0, 0, 0, 0, has_year_zero=False),\n",
       "       cftime.DatetimeJulian(1965, 11, 16, 0, 0, 0, 0, has_year_zero=False),\n",
       "       cftime.DatetimeJulian(1966, 11, 16, 0, 0, 0, 0, has_year_zero=False),\n",
       "       cftime.DatetimeJulian(1967, 11, 16, 0, 0, 0, 0, has_year_zero=False),\n",
       "       cftime.DatetimeJulian(1968, 11, 16, 0, 0, 0, 0, has_year_zero=False),\n",
       "       cftime.DatetimeJulian(1969, 11, 16, 0, 0, 0, 0, has_year_zero=False),\n",
       "       cftime.DatetimeJulian(1970, 11, 16, 0, 0, 0, 0, has_year_zero=False),\n",
       "       cftime.DatetimeJulian(1971, 11, 16, 0, 0, 0, 0, has_year_zero=False),\n",
       "       cftime.DatetimeJulian(1972, 11, 16, 0, 0, 0, 0, has_year_zero=False),\n",
       "       cftime.DatetimeJulian(1973, 11, 16, 0, 0, 0, 0, has_year_zero=False),\n",
       "       cftime.DatetimeJulian(1974, 11, 16, 0, 0, 0, 0, has_year_zero=False),\n",
       "       cftime.DatetimeJulian(1975, 11, 16, 0, 0, 0, 0, has_year_zero=False),\n",
       "       cftime.DatetimeJulian(1976, 11, 16, 0, 0, 0, 0, has_year_zero=False),\n",
       "       cftime.DatetimeJulian(1977, 11, 16, 0, 0, 0, 0, has_year_zero=False),\n",
       "       cftime.DatetimeJulian(1978, 11, 16, 0, 0, 0, 0, has_year_zero=False),\n",
       "       cftime.DatetimeJulian(1979, 11, 16, 0, 0, 0, 0, has_year_zero=False),\n",
       "       cftime.DatetimeJulian(1980, 11, 16, 0, 0, 0, 0, has_year_zero=False),\n",
       "       cftime.DatetimeJulian(1981, 11, 16, 0, 0, 0, 0, has_year_zero=False),\n",
       "       cftime.DatetimeJulian(1982, 11, 16, 0, 0, 0, 0, has_year_zero=False),\n",
       "       cftime.DatetimeJulian(1983, 11, 16, 0, 0, 0, 0, has_year_zero=False),\n",
       "       cftime.DatetimeJulian(1984, 11, 16, 0, 0, 0, 0, has_year_zero=False),\n",
       "       cftime.DatetimeJulian(1985, 11, 16, 0, 0, 0, 0, has_year_zero=False),\n",
       "       cftime.DatetimeJulian(1986, 11, 16, 0, 0, 0, 0, has_year_zero=False),\n",
       "       cftime.DatetimeJulian(1987, 11, 16, 0, 0, 0, 0, has_year_zero=False),\n",
       "       cftime.DatetimeJulian(1988, 11, 16, 0, 0, 0, 0, has_year_zero=False),\n",
       "       cftime.DatetimeJulian(1989, 11, 16, 0, 0, 0, 0, has_year_zero=False),\n",
       "       cftime.DatetimeJulian(1990, 11, 16, 0, 0, 0, 0, has_year_zero=False),\n",
       "       cftime.DatetimeJulian(1991, 11, 16, 0, 0, 0, 0, has_year_zero=False),\n",
       "       cftime.DatetimeJulian(1992, 11, 16, 0, 0, 0, 0, has_year_zero=False),\n",
       "       cftime.DatetimeJulian(1993, 11, 16, 0, 0, 0, 0, has_year_zero=False),\n",
       "       cftime.DatetimeJulian(1994, 11, 16, 0, 0, 0, 0, has_year_zero=False),\n",
       "       cftime.DatetimeJulian(1995, 11, 16, 0, 0, 0, 0, has_year_zero=False),\n",
       "       cftime.DatetimeJulian(1996, 11, 16, 0, 0, 0, 0, has_year_zero=False),\n",
       "       cftime.DatetimeJulian(1997, 11, 16, 0, 0, 0, 0, has_year_zero=False),\n",
       "       cftime.DatetimeJulian(1998, 11, 16, 0, 0, 0, 0, has_year_zero=False),\n",
       "       cftime.DatetimeJulian(1999, 11, 16, 0, 0, 0, 0, has_year_zero=False),\n",
       "       cftime.DatetimeJulian(2000, 11, 16, 0, 0, 0, 0, has_year_zero=False),\n",
       "       cftime.DatetimeJulian(2001, 11, 16, 0, 0, 0, 0, has_year_zero=False),\n",
       "       cftime.DatetimeJulian(2002, 11, 16, 0, 0, 0, 0, has_year_zero=False),\n",
       "       cftime.DatetimeJulian(2003, 11, 16, 0, 0, 0, 0, has_year_zero=False),\n",
       "       cftime.DatetimeJulian(2004, 11, 16, 0, 0, 0, 0, has_year_zero=False),\n",
       "       cftime.DatetimeJulian(2005, 11, 16, 0, 0, 0, 0, has_year_zero=False),\n",
       "       cftime.DatetimeJulian(2006, 11, 16, 0, 0, 0, 0, has_year_zero=False),\n",
       "       cftime.DatetimeJulian(2007, 11, 16, 0, 0, 0, 0, has_year_zero=False),\n",
       "       cftime.DatetimeJulian(2008, 11, 16, 0, 0, 0, 0, has_year_zero=False),\n",
       "       cftime.DatetimeJulian(2009, 11, 16, 0, 0, 0, 0, has_year_zero=False),\n",
       "       cftime.DatetimeJulian(2010, 11, 16, 0, 0, 0, 0, has_year_zero=False),\n",
       "       cftime.DatetimeJulian(2011, 11, 16, 0, 0, 0, 0, has_year_zero=False),\n",
       "       cftime.DatetimeJulian(2012, 11, 16, 0, 0, 0, 0, has_year_zero=False),\n",
       "       cftime.DatetimeJulian(2013, 11, 16, 0, 0, 0, 0, has_year_zero=False),\n",
       "       cftime.DatetimeJulian(2014, 11, 16, 0, 0, 0, 0, has_year_zero=False),\n",
       "       cftime.DatetimeJulian(2015, 11, 16, 0, 0, 0, 0, has_year_zero=False),\n",
       "       cftime.DatetimeJulian(2016, 11, 16, 0, 0, 0, 0, has_year_zero=False),\n",
       "       cftime.DatetimeJulian(2017, 11, 16, 0, 0, 0, 0, has_year_zero=False),\n",
       "       cftime.DatetimeJulian(2018, 11, 16, 0, 0, 0, 0, has_year_zero=False)],\n",
       "      dtype=object)</pre></div></li><li class='xr-var-item'><div class='xr-var-name'><span class='xr-has-index'>lead_time</span></div><div class='xr-var-dims'>(lead_time)</div><div class='xr-var-dtype'>int64</div><div class='xr-var-preview xr-preview'>0 1 2 3 4 5 6 7 8 9 10</div><input id='attrs-b825fe9a-ac7d-4e13-89a2-4c273c4adb40' class='xr-var-attrs-in' type='checkbox' ><label for='attrs-b825fe9a-ac7d-4e13-89a2-4c273c4adb40' title='Show/Hide attributes'><svg class='icon xr-icon-file-text2'><use xlink:href='#icon-file-text2'></use></svg></label><input id='data-28c4380c-f86b-4840-b61d-b9d588752d3d' class='xr-var-data-in' type='checkbox'><label for='data-28c4380c-f86b-4840-b61d-b9d588752d3d' title='Show/Hide data repr'><svg class='icon xr-icon-database'><use xlink:href='#icon-database'></use></svg></label><div class='xr-var-attrs'><dl class='xr-attrs'><dt><span>units :</span></dt><dd>Q</dd></dl></div><div class='xr-var-data'><pre>array([ 0,  1,  2,  3,  4,  5,  6,  7,  8,  9, 10])</pre></div></li><li class='xr-var-item'><div class='xr-var-name'><span>time</span></div><div class='xr-var-dims'>(lead_time, init_date)</div><div class='xr-var-dtype'>object</div><div class='xr-var-preview xr-preview'>dask.array&lt;chunksize=(11, 59), meta=np.ndarray&gt;</div><input id='attrs-28dcac2c-2f94-4739-9145-8c92a0a5a6b1' class='xr-var-attrs-in' type='checkbox' ><label for='attrs-28dcac2c-2f94-4739-9145-8c92a0a5a6b1' title='Show/Hide attributes'><svg class='icon xr-icon-file-text2'><use xlink:href='#icon-file-text2'></use></svg></label><input id='data-30f45184-0483-4feb-9c18-e106ce2d8dfe' class='xr-var-data-in' type='checkbox'><label for='data-30f45184-0483-4feb-9c18-e106ce2d8dfe' title='Show/Hide data repr'><svg class='icon xr-icon-database'><use xlink:href='#icon-database'></use></svg></label><div class='xr-var-attrs'><dl class='xr-attrs'><dt><span>frequency :</span></dt><dd>Q</dd></dl></div><div class='xr-var-data'><table>\n",
       "<tr>\n",
       "<td>\n",
       "<table>\n",
       "  <thead>\n",
       "    <tr><td> </td><th> Array </th><th> Chunk </th></tr>\n",
       "  </thead>\n",
       "  <tbody>\n",
       "    <tr><th> Bytes </th><td> 5.07 kiB </td> <td> 5.07 kiB </td></tr>\n",
       "    <tr><th> Shape </th><td> (11, 59) </td> <td> (11, 59) </td></tr>\n",
       "    <tr><th> Count </th><td> 2 Tasks </td><td> 1 Chunks </td></tr>\n",
       "    <tr><th> Type </th><td> object </td><td> numpy.ndarray </td></tr>\n",
       "  </tbody>\n",
       "</table>\n",
       "</td>\n",
       "<td>\n",
       "<svg width=\"170\" height=\"91\" style=\"stroke:rgb(0,0,0);stroke-width:1\" >\n",
       "\n",
       "  <!-- Horizontal lines -->\n",
       "  <line x1=\"0\" y1=\"0\" x2=\"120\" y2=\"0\" style=\"stroke-width:2\" />\n",
       "  <line x1=\"0\" y1=\"41\" x2=\"120\" y2=\"41\" style=\"stroke-width:2\" />\n",
       "\n",
       "  <!-- Vertical lines -->\n",
       "  <line x1=\"0\" y1=\"0\" x2=\"0\" y2=\"41\" style=\"stroke-width:2\" />\n",
       "  <line x1=\"120\" y1=\"0\" x2=\"120\" y2=\"41\" style=\"stroke-width:2\" />\n",
       "\n",
       "  <!-- Colored Rectangle -->\n",
       "  <polygon points=\"0.0,0.0 120.0,0.0 120.0,41.70788989335183 0.0,41.70788989335183\" style=\"fill:#ECB172A0;stroke-width:0\"/>\n",
       "\n",
       "  <!-- Text -->\n",
       "  <text x=\"60.000000\" y=\"61.707890\" font-size=\"1.0rem\" font-weight=\"100\" text-anchor=\"middle\" >59</text>\n",
       "  <text x=\"140.000000\" y=\"20.853945\" font-size=\"1.0rem\" font-weight=\"100\" text-anchor=\"middle\" transform=\"rotate(0,140.000000,20.853945)\">11</text>\n",
       "</svg>\n",
       "</td>\n",
       "</tr>\n",
       "</table></div></li></ul></div></li><li class='xr-section-item'><input id='section-86ee95a3-ae85-4d64-b73d-99b307530f73' class='xr-section-summary-in' type='checkbox'  checked><label for='section-86ee95a3-ae85-4d64-b73d-99b307530f73' class='xr-section-summary' >Data variables: <span>(1)</span></label><div class='xr-section-inline-details'></div><div class='xr-section-details'><ul class='xr-var-list'><li class='xr-var-item'><div class='xr-var-name'><span>tas</span></div><div class='xr-var-dims'>(init_date, ensemble, lead_time)</div><div class='xr-var-dtype'>float64</div><div class='xr-var-preview xr-preview'>dask.array&lt;chunksize=(1, 1, 11), meta=np.ndarray&gt;</div><input id='attrs-02c52206-a955-43ec-9ee4-731cad015dcc' class='xr-var-attrs-in' type='checkbox' ><label for='attrs-02c52206-a955-43ec-9ee4-731cad015dcc' title='Show/Hide attributes'><svg class='icon xr-icon-file-text2'><use xlink:href='#icon-file-text2'></use></svg></label><input id='data-e8aeaf27-f86e-414b-a75e-f765dc5ba390' class='xr-var-data-in' type='checkbox'><label for='data-e8aeaf27-f86e-414b-a75e-f765dc5ba390' title='Show/Hide data repr'><svg class='icon xr-icon-database'><use xlink:href='#icon-database'></use></svg></label><div class='xr-var-attrs'><dl class='xr-attrs'><dt><span>cell_measures :</span></dt><dd>area: areacella</dd><dt><span>cell_methods :</span></dt><dd>area: time: mean</dd><dt><span>comment :</span></dt><dd>near-surface (usually, 2 meter) air temperature</dd><dt><span>history :</span></dt><dd>2019-08-31T10:32:17Z altered by CMOR: Treated scalar dimension: &#x27;height&#x27;. 2019-08-31T10:32:17Z altered by CMOR: Reordered dimensions, original order: lat lon time.</dd><dt><span>long_name :</span></dt><dd>Near-Surface Air Temperature</dd><dt><span>standard_name :</span></dt><dd>air_temperature</dd><dt><span>units :</span></dt><dd>°C</dd></dl></div><div class='xr-var-data'><table>\n",
       "<tr>\n",
       "<td>\n",
       "<table>\n",
       "  <thead>\n",
       "    <tr><td> </td><th> Array </th><th> Chunk </th></tr>\n",
       "  </thead>\n",
       "  <tbody>\n",
       "    <tr><th> Bytes </th><td> 50.70 kiB </td> <td> 88 B </td></tr>\n",
       "    <tr><th> Shape </th><td> (59, 10, 11) </td> <td> (1, 1, 11) </td></tr>\n",
       "    <tr><th> Count </th><td> 591 Tasks </td><td> 590 Chunks </td></tr>\n",
       "    <tr><th> Type </th><td> float64 </td><td> numpy.ndarray </td></tr>\n",
       "  </tbody>\n",
       "</table>\n",
       "</td>\n",
       "<td>\n",
       "<svg width=\"172\" height=\"161\" style=\"stroke:rgb(0,0,0);stroke-width:1\" >\n",
       "\n",
       "  <!-- Horizontal lines -->\n",
       "  <line x1=\"10\" y1=\"0\" x2=\"80\" y2=\"70\" style=\"stroke-width:2\" />\n",
       "  <line x1=\"10\" y1=\"4\" x2=\"80\" y2=\"74\" />\n",
       "  <line x1=\"10\" y1=\"8\" x2=\"80\" y2=\"78\" />\n",
       "  <line x1=\"10\" y1=\"12\" x2=\"80\" y2=\"82\" />\n",
       "  <line x1=\"10\" y1=\"16\" x2=\"80\" y2=\"87\" />\n",
       "  <line x1=\"10\" y1=\"20\" x2=\"80\" y2=\"91\" />\n",
       "  <line x1=\"10\" y1=\"24\" x2=\"80\" y2=\"95\" />\n",
       "  <line x1=\"10\" y1=\"28\" x2=\"80\" y2=\"99\" />\n",
       "  <line x1=\"10\" y1=\"33\" x2=\"80\" y2=\"103\" />\n",
       "  <line x1=\"10\" y1=\"37\" x2=\"80\" y2=\"107\" />\n",
       "  <line x1=\"10\" y1=\"41\" x2=\"80\" y2=\"111\" style=\"stroke-width:2\" />\n",
       "\n",
       "  <!-- Vertical lines -->\n",
       "  <line x1=\"10\" y1=\"0\" x2=\"10\" y2=\"41\" style=\"stroke-width:2\" />\n",
       "  <line x1=\"13\" y1=\"3\" x2=\"13\" y2=\"44\" />\n",
       "  <line x1=\"17\" y1=\"7\" x2=\"17\" y2=\"48\" />\n",
       "  <line x1=\"20\" y1=\"10\" x2=\"20\" y2=\"52\" />\n",
       "  <line x1=\"24\" y1=\"14\" x2=\"24\" y2=\"55\" />\n",
       "  <line x1=\"27\" y1=\"17\" x2=\"27\" y2=\"59\" />\n",
       "  <line x1=\"31\" y1=\"21\" x2=\"31\" y2=\"62\" />\n",
       "  <line x1=\"35\" y1=\"25\" x2=\"35\" y2=\"66\" />\n",
       "  <line x1=\"38\" y1=\"28\" x2=\"38\" y2=\"69\" />\n",
       "  <line x1=\"42\" y1=\"32\" x2=\"42\" y2=\"73\" />\n",
       "  <line x1=\"47\" y1=\"37\" x2=\"47\" y2=\"78\" />\n",
       "  <line x1=\"50\" y1=\"40\" x2=\"50\" y2=\"81\" />\n",
       "  <line x1=\"54\" y1=\"44\" x2=\"54\" y2=\"85\" />\n",
       "  <line x1=\"57\" y1=\"47\" x2=\"57\" y2=\"89\" />\n",
       "  <line x1=\"61\" y1=\"51\" x2=\"61\" y2=\"92\" />\n",
       "  <line x1=\"65\" y1=\"55\" x2=\"65\" y2=\"96\" />\n",
       "  <line x1=\"68\" y1=\"58\" x2=\"68\" y2=\"99\" />\n",
       "  <line x1=\"72\" y1=\"62\" x2=\"72\" y2=\"103\" />\n",
       "  <line x1=\"75\" y1=\"65\" x2=\"75\" y2=\"107\" />\n",
       "  <line x1=\"80\" y1=\"70\" x2=\"80\" y2=\"111\" style=\"stroke-width:2\" />\n",
       "\n",
       "  <!-- Colored Rectangle -->\n",
       "  <polygon points=\"10.0,0.0 80.58823529411765,70.58823529411765 80.58823529411765,111.86931006392784 10.0,41.28107476981019\" style=\"fill:#8B4903A0;stroke-width:0\"/>\n",
       "\n",
       "  <!-- Horizontal lines -->\n",
       "  <line x1=\"10\" y1=\"0\" x2=\"51\" y2=\"0\" style=\"stroke-width:2\" />\n",
       "  <line x1=\"13\" y1=\"3\" x2=\"55\" y2=\"3\" />\n",
       "  <line x1=\"17\" y1=\"7\" x2=\"58\" y2=\"7\" />\n",
       "  <line x1=\"20\" y1=\"10\" x2=\"62\" y2=\"10\" />\n",
       "  <line x1=\"24\" y1=\"14\" x2=\"66\" y2=\"14\" />\n",
       "  <line x1=\"27\" y1=\"17\" x2=\"69\" y2=\"17\" />\n",
       "  <line x1=\"31\" y1=\"21\" x2=\"73\" y2=\"21\" />\n",
       "  <line x1=\"35\" y1=\"25\" x2=\"76\" y2=\"25\" />\n",
       "  <line x1=\"38\" y1=\"28\" x2=\"80\" y2=\"28\" />\n",
       "  <line x1=\"42\" y1=\"32\" x2=\"84\" y2=\"32\" />\n",
       "  <line x1=\"47\" y1=\"37\" x2=\"88\" y2=\"37\" />\n",
       "  <line x1=\"50\" y1=\"40\" x2=\"92\" y2=\"40\" />\n",
       "  <line x1=\"54\" y1=\"44\" x2=\"95\" y2=\"44\" />\n",
       "  <line x1=\"57\" y1=\"47\" x2=\"99\" y2=\"47\" />\n",
       "  <line x1=\"61\" y1=\"51\" x2=\"103\" y2=\"51\" />\n",
       "  <line x1=\"65\" y1=\"55\" x2=\"106\" y2=\"55\" />\n",
       "  <line x1=\"68\" y1=\"58\" x2=\"110\" y2=\"58\" />\n",
       "  <line x1=\"72\" y1=\"62\" x2=\"113\" y2=\"62\" />\n",
       "  <line x1=\"75\" y1=\"65\" x2=\"117\" y2=\"65\" />\n",
       "  <line x1=\"80\" y1=\"70\" x2=\"122\" y2=\"70\" style=\"stroke-width:2\" />\n",
       "\n",
       "  <!-- Vertical lines -->\n",
       "  <line x1=\"10\" y1=\"0\" x2=\"80\" y2=\"70\" style=\"stroke-width:2\" />\n",
       "  <line x1=\"51\" y1=\"0\" x2=\"122\" y2=\"70\" style=\"stroke-width:2\" />\n",
       "\n",
       "  <!-- Colored Rectangle -->\n",
       "  <polygon points=\"10.0,0.0 51.70788989335183,0.0 122.29612518746949,70.58823529411765 80.58823529411765,70.58823529411765\" style=\"fill:#8B4903A0;stroke-width:0\"/>\n",
       "\n",
       "  <!-- Horizontal lines -->\n",
       "  <line x1=\"80\" y1=\"70\" x2=\"122\" y2=\"70\" style=\"stroke-width:2\" />\n",
       "  <line x1=\"80\" y1=\"74\" x2=\"122\" y2=\"74\" />\n",
       "  <line x1=\"80\" y1=\"78\" x2=\"122\" y2=\"78\" />\n",
       "  <line x1=\"80\" y1=\"82\" x2=\"122\" y2=\"82\" />\n",
       "  <line x1=\"80\" y1=\"87\" x2=\"122\" y2=\"87\" />\n",
       "  <line x1=\"80\" y1=\"91\" x2=\"122\" y2=\"91\" />\n",
       "  <line x1=\"80\" y1=\"95\" x2=\"122\" y2=\"95\" />\n",
       "  <line x1=\"80\" y1=\"99\" x2=\"122\" y2=\"99\" />\n",
       "  <line x1=\"80\" y1=\"103\" x2=\"122\" y2=\"103\" />\n",
       "  <line x1=\"80\" y1=\"107\" x2=\"122\" y2=\"107\" />\n",
       "  <line x1=\"80\" y1=\"111\" x2=\"122\" y2=\"111\" style=\"stroke-width:2\" />\n",
       "\n",
       "  <!-- Vertical lines -->\n",
       "  <line x1=\"80\" y1=\"70\" x2=\"80\" y2=\"111\" style=\"stroke-width:2\" />\n",
       "  <line x1=\"122\" y1=\"70\" x2=\"122\" y2=\"111\" style=\"stroke-width:2\" />\n",
       "\n",
       "  <!-- Colored Rectangle -->\n",
       "  <polygon points=\"80.58823529411765,70.58823529411765 122.29612518746949,70.58823529411765 122.29612518746949,111.86931006392784 80.58823529411765,111.86931006392784\" style=\"fill:#ECB172A0;stroke-width:0\"/>\n",
       "\n",
       "  <!-- Text -->\n",
       "  <text x=\"101.442180\" y=\"131.869310\" font-size=\"1.0rem\" font-weight=\"100\" text-anchor=\"middle\" >11</text>\n",
       "  <text x=\"142.296125\" y=\"91.228773\" font-size=\"1.0rem\" font-weight=\"100\" text-anchor=\"middle\" transform=\"rotate(0,142.296125,91.228773)\">10</text>\n",
       "  <text x=\"35.294118\" y=\"96.575192\" font-size=\"1.0rem\" font-weight=\"100\" text-anchor=\"middle\" transform=\"rotate(45,35.294118,96.575192)\">59</text>\n",
       "</svg>\n",
       "</td>\n",
       "</tr>\n",
       "</table></div></li></ul></div></li><li class='xr-section-item'><input id='section-ecf76c77-9e66-4945-9080-5165983dbc1e' class='xr-section-summary-in' type='checkbox'  ><label for='section-ecf76c77-9e66-4945-9080-5165983dbc1e' class='xr-section-summary' >Attributes: <span>(48)</span></label><div class='xr-section-inline-details'></div><div class='xr-section-details'><dl class='xr-attrs'><dt><span>Conventions :</span></dt><dd>CF-1.7 CMIP-6.2</dd><dt><span>activity_id :</span></dt><dd>DCPP</dd><dt><span>branch_method :</span></dt><dd>no parent</dd><dt><span>branch_time :</span></dt><dd>0.0</dd><dt><span>branch_time_in_child :</span></dt><dd>0.0</dd><dt><span>branch_time_in_parent :</span></dt><dd>0.0</dd><dt><span>cmor_version :</span></dt><dd>3.4.0</dd><dt><span>contact :</span></dt><dd>cmip6-data@ec-earth.org</dd><dt><span>creation_date :</span></dt><dd>2019-08-31T10:32:18Z</dd><dt><span>data_specs_version :</span></dt><dd>01.00.27</dd><dt><span>experiment :</span></dt><dd>hindcast initialized based on observations and using historical forcing</dd><dt><span>experiment_id :</span></dt><dd>dcppA-hindcast</dd><dt><span>external_variables :</span></dt><dd>areacella</dd><dt><span>forcing_index :</span></dt><dd>1</dd><dt><span>frequency :</span></dt><dd>mon</dd><dt><span>further_info_url :</span></dt><dd>https://furtherinfo.es-doc.org/CMIP6.EC-Earth-Consortium.EC-Earth3.dcppA-hindcast.none.r10i1p1f1</dd><dt><span>grid :</span></dt><dd>ORCA1T255</dd><dt><span>grid_label :</span></dt><dd>gr</dd><dt><span>history :</span></dt><dd>Mon Oct 03 14:02:30 2022: /g/data/xv83/dbi599/miniconda3/envs/unseen/bin/python3.9 /g/data/xv83/dbi599/miniconda3/envs/unseen/bin/fileio file_lists/EC-Earth3_dcppA-hindcast_files.txt /g/data/xv83/dbi599/summer-heat/data/tas_EC-Earth3-dcppA-hindcast_196011-201811_DJF_aus-mean.zarr.zip --forecast --variables tas --spatial_coords -44 -11 113 154 --time_freq Q-NOV --time_agg mean --season DJF --shapefile /g/data/wp00/shared_code/shapefiles/australia/australia.shp --spatial_agg mean --units tas=C --units_timing middle --n_ensemble_files 10 --n_time_files 11 --standard_calendar --input_freq M --reset_times --output_chunks lead_time=50 --dask_config dask_local.yml --verbose (git@github.com:AusClimateService/summer-heat)</dd><dt><span>initialization_index :</span></dt><dd>1</dd><dt><span>institution :</span></dt><dd>AEMET, Spain; BSC, Spain; CNR-ISAC, Italy; DMI, Denmark; ENEA, Italy; FMI, Finland; Geomar, Germany; ICHEC, Ireland; ICTP, Italy; IDL, Portugal; IMAU, The Netherlands; IPMA, Portugal; KIT, Karlsruhe, Germany; KNMI, The Netherlands; Lund University, Sweden; Met Eireann, Ireland; NLeSC, The Netherlands; NTNU, Norway; Oxford University, UK; surfSARA, The Netherlands; SMHI, Sweden; Stockholm University, Sweden; Unite ASTR, Belgium; University College Dublin, Ireland; University of Bergen, Norway; University of Copenhagen, Denmark; University of Helsinki, Finland; University of Santiago de Compostela, Spain; Uppsala University, Sweden; Utrecht University, The Netherlands; Vrije Universiteit Amsterdam, the Netherlands; Wageningen University, The Netherlands. Mailing address: EC-Earth consortium, Rossby Center, Swedish Meteorological and Hydrological Institute/SMHI, SE-601 76 Norrkoping, Sweden</dd><dt><span>institution_id :</span></dt><dd>EC-Earth-Consortium</dd><dt><span>license :</span></dt><dd>CMIP6 model data produced by EC-Earth-Consortium is licensed under a Creative Commons Attribution-ShareAlike 4.0 International License (https://creativecommons.org/licenses). Consult https://pcmdi.llnl.gov/CMIP6/TermsOfUse for terms of use governing CMIP6 output, including citation requirements and proper acknowledgment. Further information about this data, including some limitations, can be found via the further_info_url (recorded as a global attribute in this file) . The data producers and data providers make no warranty, either express or implied, including, but not limited to, warranties of merchantability and fitness for a particular purpose. All liabilities arising from the supply of the information (including any liability arising in negligence) are excluded to the fullest extent permitted by law.</dd><dt><span>mip_era :</span></dt><dd>CMIP6</dd><dt><span>nominal_resolution :</span></dt><dd>100 km</dd><dt><span>parent_activity_id :</span></dt><dd>no parent</dd><dt><span>parent_experiment_id :</span></dt><dd>no parent</dd><dt><span>parent_mip_era :</span></dt><dd>no parent</dd><dt><span>parent_source_id :</span></dt><dd>no parent</dd><dt><span>parent_sub_experiment_id :</span></dt><dd>no parent</dd><dt><span>parent_time_units :</span></dt><dd>no parent</dd><dt><span>parent_variant_label :</span></dt><dd>no parent</dd><dt><span>physics_index :</span></dt><dd>1</dd><dt><span>product :</span></dt><dd>model-output</dd><dt><span>realization_index :</span></dt><dd>10</dd><dt><span>realm :</span></dt><dd>atmos</dd><dt><span>source :</span></dt><dd>EC-Earth3 (2019): \n",
       "aerosol: none\n",
       "atmos: IFS cy36r4 (TL255, linearly reduced Gaussian grid equivalent to 512 x 256 longitude/latitude; 91 levels; top level 0.01 hPa)\n",
       "atmosChem: none\n",
       "land: HTESSEL (land surface scheme built in IFS)\n",
       "landIce: none\n",
       "ocean: NEMO3.6 (ORCA1 tripolar primarily 1 deg with meridional refinement down to 1/3 degree in the tropics; 362 x 292 longitude/latitude; 75 levels; top grid cell 0-1 m)\n",
       "ocnBgchem: none\n",
       "seaIce: LIM3</dd><dt><span>source_id :</span></dt><dd>EC-Earth3</dd><dt><span>source_type :</span></dt><dd>AOGCM</dd><dt><span>sub_experiment :</span></dt><dd>initialized near end of year 1960</dd><dt><span>sub_experiment_id :</span></dt><dd>s1960</dd><dt><span>table_id :</span></dt><dd>Amon</dd><dt><span>table_info :</span></dt><dd>Creation Date:(20 July 2018) MD5:b534c310c852aa1f0b00e68e90486e7a</dd><dt><span>title :</span></dt><dd>EC-Earth3 output prepared for CMIP6</dd><dt><span>tracking_id :</span></dt><dd>hdl:21.14100/6f066f42-c15f-4e3b-90ae-696a5b70708a</dd><dt><span>variable_id :</span></dt><dd>tas</dd><dt><span>variant_info :</span></dt><dd>Atmosphere initialization based on full-fields from ERA-Interim (s1979-s2018) or ERA-40 (s1960-s1978); ocean/sea-ice initialization based on full-fields from NEMO/LIM assimilation run nudged towards ORA-S4 (s1960-s2018)</dd><dt><span>variant_label :</span></dt><dd>r10i1p1f1</dd></dl></div></li></ul></div></div>"
      ],
      "text/plain": [
       "<xarray.Dataset>\n",
       "Dimensions:    (ensemble: 10, init_date: 59, lead_time: 11)\n",
       "Coordinates:\n",
       "  * ensemble   (ensemble) int64 0 1 2 3 4 5 6 7 8 9\n",
       "    height     float64 ...\n",
       "  * init_date  (init_date) object 1960-11-16 00:00:00 ... 2018-11-16 00:00:00\n",
       "  * lead_time  (lead_time) int64 0 1 2 3 4 5 6 7 8 9 10\n",
       "    time       (lead_time, init_date) object dask.array<chunksize=(11, 59), meta=np.ndarray>\n",
       "Data variables:\n",
       "    tas        (init_date, ensemble, lead_time) float64 dask.array<chunksize=(1, 1, 11), meta=np.ndarray>\n",
       "Attributes: (12/48)\n",
       "    Conventions:               CF-1.7 CMIP-6.2\n",
       "    activity_id:               DCPP\n",
       "    branch_method:             no parent\n",
       "    branch_time:               0.0\n",
       "    branch_time_in_child:      0.0\n",
       "    branch_time_in_parent:     0.0\n",
       "    ...                        ...\n",
       "    table_info:                Creation Date:(20 July 2018) MD5:b534c310c852a...\n",
       "    title:                     EC-Earth3 output prepared for CMIP6\n",
       "    tracking_id:               hdl:21.14100/6f066f42-c15f-4e3b-90ae-696a5b70708a\n",
       "    variable_id:               tas\n",
       "    variant_info:              Atmosphere initialization based on full-fields...\n",
       "    variant_label:             r10i1p1f1"
      ]
     },
     "execution_count": 16,
     "metadata": {},
     "output_type": "execute_result"
    }
   ],
   "source": [
    "model_ds"
   ]
  },
  {
   "cell_type": "markdown",
   "id": "b25bd815",
   "metadata": {
    "papermill": {
     "duration": 0.018994,
     "end_time": "2022-10-03T05:09:28.147944",
     "exception": false,
     "start_time": "2022-10-03T05:09:28.128950",
     "status": "completed"
    },
    "tags": []
   },
   "source": [
    "### Independence testing"
   ]
  },
  {
   "cell_type": "code",
   "execution_count": 17,
   "id": "b819d698",
   "metadata": {
    "execution": {
     "iopub.execute_input": "2022-10-03T05:09:28.190562Z",
     "iopub.status.busy": "2022-10-03T05:09:28.190250Z",
     "iopub.status.idle": "2022-10-03T05:09:28.197342Z",
     "shell.execute_reply": "2022-10-03T05:09:28.196955Z"
    },
    "papermill": {
     "duration": 0.030606,
     "end_time": "2022-10-03T05:09:28.197423",
     "exception": false,
     "start_time": "2022-10-03T05:09:28.166817",
     "status": "completed"
    },
    "tags": []
   },
   "outputs": [
    {
     "data": {
      "image/png": "[encoded data removed]",
      "text/plain": [
       "<IPython.core.display.Image object>"
      ]
     },
     "execution_count": 17,
     "metadata": {},
     "output_type": "execute_result"
    }
   ],
   "source": [
    "Image(filename=independence_plot)"
   ]
  },
  {
   "cell_type": "code",
   "execution_count": 18,
   "id": "a5ccabe2",
   "metadata": {
    "execution": {
     "iopub.execute_input": "2022-10-03T05:09:28.245406Z",
     "iopub.status.busy": "2022-10-03T05:09:28.245084Z",
     "iopub.status.idle": "2022-10-03T05:09:28.249048Z",
     "shell.execute_reply": "2022-10-03T05:09:28.248771Z"
    },
    "papermill": {
     "duration": 0.028834,
     "end_time": "2022-10-03T05:09:28.249115",
     "exception": false,
     "start_time": "2022-10-03T05:09:28.220281",
     "status": "completed"
    },
    "tags": []
   },
   "outputs": [
    {
     "name": "stdout",
     "output_type": "stream",
     "text": [
      "2\n"
     ]
    }
   ],
   "source": [
    "print(min_lead)"
   ]
  },
  {
   "cell_type": "code",
   "execution_count": 19,
   "id": "e055048c",
   "metadata": {
    "execution": {
     "iopub.execute_input": "2022-10-03T05:09:28.302617Z",
     "iopub.status.busy": "2022-10-03T05:09:28.302274Z",
     "iopub.status.idle": "2022-10-03T05:09:28.305623Z",
     "shell.execute_reply": "2022-10-03T05:09:28.305178Z"
    },
    "papermill": {
     "duration": 0.034628,
     "end_time": "2022-10-03T05:09:28.305716",
     "exception": false,
     "start_time": "2022-10-03T05:09:28.271088",
     "status": "completed"
    },
    "tags": []
   },
   "outputs": [],
   "source": [
    "model_da = model_ds['tas'].where(model_ds['lead_time'] >= min_lead)"
   ]
  },
  {
   "cell_type": "markdown",
   "id": "1e039e61",
   "metadata": {
    "papermill": {
     "duration": 0.01978,
     "end_time": "2022-10-03T05:09:28.350242",
     "exception": false,
     "start_time": "2022-10-03T05:09:28.330462",
     "status": "completed"
    },
    "tags": []
   },
   "source": [
    "### Bias correction and similarity testing"
   ]
  },
  {
   "cell_type": "code",
   "execution_count": 20,
   "id": "110c554e",
   "metadata": {
    "execution": {
     "iopub.execute_input": "2022-10-03T05:09:28.459834Z",
     "iopub.status.busy": "2022-10-03T05:09:28.450328Z",
     "iopub.status.idle": "2022-10-03T05:09:30.595788Z",
     "shell.execute_reply": "2022-10-03T05:09:30.596668Z"
    },
    "papermill": {
     "duration": 2.226612,
     "end_time": "2022-10-03T05:09:30.596931",
     "exception": false,
     "start_time": "2022-10-03T05:09:28.370319",
     "status": "completed"
    },
    "tags": []
   },
   "outputs": [
    {
     "data": {
      "image/png": "[encoded data removed]",
      "text/plain": [
       "<Figure size 720x432 with 1 Axes>"
      ]
     },
     "metadata": {
      "needs_background": "light"
     },
     "output_type": "display_data"
    }
   ],
   "source": [
    "fig = plt.figure(figsize=[10, 6])\n",
    "model_da.plot.hist(bins=50, density=True, label=model_name, alpha=0.7)\n",
    "model_bc_ds['tas'].plot.hist(bins=50, density=True, label=f'{model_name} bias corrected', facecolor='darkblue', alpha=0.7)\n",
    "bom_ds['tas'].plot.hist(bins=50, density=True, label='BoM', facecolor='green', alpha=0.7)\n",
    "plt.xlabel('temperature (C)')\n",
    "plt.ylabel('probability')\n",
    "plt.title(f'DJF mean temperature for Australia ({model_name})')\n",
    "plt.legend()\n",
    "plt.savefig(\n",
    "    f'/g/data/xv83/dbi599/summer-heat/figures/djf_tas_histogram_aus_{model_name}.png',\n",
    "    bbox_inches='tight',\n",
    "    facecolor='white',\n",
    "    dpi=dpi\n",
    ")\n",
    "plt.show()"
   ]
  },
  {
   "cell_type": "code",
   "execution_count": 21,
   "id": "8b3f7de0",
   "metadata": {
    "execution": {
     "iopub.execute_input": "2022-10-03T05:09:30.662161Z",
     "iopub.status.busy": "2022-10-03T05:09:30.661848Z",
     "iopub.status.idle": "2022-10-03T05:09:30.681572Z",
     "shell.execute_reply": "2022-10-03T05:09:30.681258Z"
    },
    "papermill": {
     "duration": 0.043094,
     "end_time": "2022-10-03T05:09:30.681656",
     "exception": false,
     "start_time": "2022-10-03T05:09:30.638562",
     "status": "completed"
    },
    "tags": []
   },
   "outputs": [
    {
     "data": {
      "text/plain": [
       "array([0.73215014, 0.12735316, 0.15137397, 0.13499013, 0.0885983 ,\n",
       "       0.09427202, 0.02796704, 0.04598224, 0.0643396 ], dtype=float32)"
      ]
     },
     "execution_count": 21,
     "metadata": {},
     "output_type": "execute_result"
    }
   ],
   "source": [
    "similarity_bias_ds = fileio.open_dataset(similarity_bc_file)\n",
    "similarity_bias_ds['pval'].values"
   ]
  },
  {
   "cell_type": "code",
   "execution_count": 22,
   "id": "a21af1f7",
   "metadata": {
    "execution": {
     "iopub.execute_input": "2022-10-03T05:09:30.734293Z",
     "iopub.status.busy": "2022-10-03T05:09:30.733959Z",
     "iopub.status.idle": "2022-10-03T05:09:30.774362Z",
     "shell.execute_reply": "2022-10-03T05:09:30.774805Z"
    },
    "papermill": {
     "duration": 0.066742,
     "end_time": "2022-10-03T05:09:30.774950",
     "exception": false,
     "start_time": "2022-10-03T05:09:30.708208",
     "status": "completed"
    },
    "tags": []
   },
   "outputs": [
    {
     "data": {
      "text/plain": [
       "array([2.2965966e-15, 4.0626627e-11, 1.0839079e-05, 7.3550727e-10,\n",
       "       6.5696372e-17, 2.2151443e-12, 1.0704606e-11, 1.2095874e-12,\n",
       "       2.8584871e-13, 1.2335361e-10, 2.3054681e-11], dtype=float32)"
      ]
     },
     "execution_count": 22,
     "metadata": {},
     "output_type": "execute_result"
    }
   ],
   "source": [
    "similarity_raw_ds = fileio.open_dataset(similarity_raw_file)\n",
    "similarity_raw_ds['pval'].values"
   ]
  },
  {
   "cell_type": "markdown",
   "id": "1a8210c0",
   "metadata": {
    "papermill": {
     "duration": 0.020476,
     "end_time": "2022-10-03T05:09:30.824720",
     "exception": false,
     "start_time": "2022-10-03T05:09:30.804244",
     "status": "completed"
    },
    "tags": []
   },
   "source": [
    "These are the p-values for each lead time.\n",
    "\n",
    "p > 0.05 means the null hypothesis (that the two samples are from the same population) can't be rejected."
   ]
  },
  {
   "cell_type": "markdown",
   "id": "692c7b58",
   "metadata": {
    "papermill": {
     "duration": 0.020124,
     "end_time": "2022-10-03T05:09:30.865904",
     "exception": false,
     "start_time": "2022-10-03T05:09:30.845780",
     "status": "completed"
    },
    "tags": []
   },
   "source": [
    "### Exceedance curves"
   ]
  },
  {
   "cell_type": "code",
   "execution_count": 23,
   "id": "76186045",
   "metadata": {
    "execution": {
     "iopub.execute_input": "2022-10-03T05:09:30.919339Z",
     "iopub.status.busy": "2022-10-03T05:09:30.918920Z",
     "iopub.status.idle": "2022-10-03T05:09:30.922368Z",
     "shell.execute_reply": "2022-10-03T05:09:30.921954Z"
    },
    "papermill": {
     "duration": 0.03587,
     "end_time": "2022-10-03T05:09:30.922455",
     "exception": false,
     "start_time": "2022-10-03T05:09:30.886585",
     "status": "completed"
    },
    "tags": []
   },
   "outputs": [],
   "source": [
    "def plot_exceedance(sample_ds, model_name, outfile=None):\n",
    "    \"\"\"Plot single exceedance curve\"\"\"\n",
    "    \n",
    "    sorted_data, exceedance_data = general_utils.exceedance_curve(sample_ds)\n",
    "    \n",
    "    fig = plt.figure(figsize=[8, 6])\n",
    "    ax = fig.add_subplot()\n",
    "    ax.plot(sorted_data, exceedance_data)\n",
    "    ax.set_title(f'DJF mean temperature for Australia ({model_name})')\n",
    "    ax.set_ylabel('likelihood of exceedance (%)')\n",
    "    ax.set_xlabel('temperature (C)')\n",
    "    ax.axvline(tas2019, color='0.5', linestyle='--')\n",
    "    if outfile:\n",
    "        plt.savefig(outfile, bbox_inches='tight', facecolor='white', dpi=dpi)\n",
    "        print(outfile)\n",
    "    else:\n",
    "        plt.show()"
   ]
  },
  {
   "cell_type": "code",
   "execution_count": 24,
   "id": "116edf55",
   "metadata": {
    "execution": {
     "iopub.execute_input": "2022-10-03T05:09:30.986723Z",
     "iopub.status.busy": "2022-10-03T05:09:30.986299Z",
     "iopub.status.idle": "2022-10-03T05:09:30.989123Z",
     "shell.execute_reply": "2022-10-03T05:09:30.988768Z"
    },
    "papermill": {
     "duration": 0.037993,
     "end_time": "2022-10-03T05:09:30.989209",
     "exception": false,
     "start_time": "2022-10-03T05:09:30.951216",
     "status": "completed"
    },
    "tags": []
   },
   "outputs": [],
   "source": [
    "def plot_exceedance_by_decade(sample_ds, model_name):\n",
    "    \"\"\"Plot exceedance curve by decade\"\"\"\n",
    "\n",
    "    fig = plt.figure(figsize=[8, 6])\n",
    "    ax = fig.add_subplot()\n",
    "    start_years = [1960, 1970, 1980, 1990, 2000, 2010]\n",
    "    colors = iter(plt.cm.hot_r(np.linspace(0.3, 1, len(start_years))))\n",
    "\n",
    "    for start_year in start_years:\n",
    "        end_year = start_year + 9\n",
    "        start_date = f'{start_year}-01-01'\n",
    "        end_date = f'{end_year}-12-25'\n",
    "        ds_selection = time_utils.select_time_period(sample_ds, [start_date, end_date])\n",
    "        ds_selection = ds_selection.dropna('sample')\n",
    "        sorted_data, exceedance_data = general_utils.exceedance_curve(ds_selection)\n",
    "        n_years = len(sorted_data)\n",
    "        label = f'{start_year}-{end_year} ({n_years} samples)'\n",
    "        color = next(colors)\n",
    "        ax.plot(sorted_data, exceedance_data, label=label, color=color)\n",
    "    \n",
    "        print(f'{start_year}-{end_year}')\n",
    "        n_events, n_population, return_period, percentile = general_utils.event_in_context(ds_selection.values, tas2019, 'above')\n",
    "        print(f'{n_events} events from {n_population} samples')\n",
    "        print(f'{percentile:.2f}% percentile')\n",
    "        print(f'{return_period:.0f} year return period')\n",
    "\n",
    "    ax.set_title(f'DJF mean temperature for Australia ({model_name})')\n",
    "    ax.set_ylabel('likelihood of exceedance (%)')\n",
    "    ax.set_xlabel('temperature (C)')\n",
    "    ax.legend()\n",
    "    ax.axvline(tas2019, color='0.5', linestyle='--')\n",
    "    outfile = f'/g/data/xv83/dbi599/summer-heat/figures/dfj_tas_exceedence_aus_{model_name}_by-decade.png'\n",
    "    plt.savefig(outfile, bbox_inches='tight', facecolor='white', dpi=dpi)\n",
    "    print(outfile)"
   ]
  },
  {
   "cell_type": "markdown",
   "id": "d6a40828",
   "metadata": {
    "papermill": {
     "duration": 0.02114,
     "end_time": "2022-10-03T05:09:31.035884",
     "exception": false,
     "start_time": "2022-10-03T05:09:31.014744",
     "status": "completed"
    },
    "tags": []
   },
   "source": [
    "#### Bias corrected data"
   ]
  },
  {
   "cell_type": "code",
   "execution_count": 25,
   "id": "f0b0019b",
   "metadata": {
    "execution": {
     "iopub.execute_input": "2022-10-03T05:09:31.235141Z",
     "iopub.status.busy": "2022-10-03T05:09:31.219673Z",
     "iopub.status.idle": "2022-10-03T05:09:32.144478Z",
     "shell.execute_reply": "2022-10-03T05:09:32.143524Z"
    },
    "papermill": {
     "duration": 1.087594,
     "end_time": "2022-10-03T05:09:32.144708",
     "exception": false,
     "start_time": "2022-10-03T05:09:31.057114",
     "status": "completed"
    },
    "tags": []
   },
   "outputs": [],
   "source": [
    "model_bc_da_stacked = model_bc_ds.dropna('lead_time')['tas'].stack({'sample': ['ensemble', 'init_date', 'lead_time']})"
   ]
  },
  {
   "cell_type": "code",
   "execution_count": 26,
   "id": "7d4fdc9e",
   "metadata": {
    "execution": {
     "iopub.execute_input": "2022-10-03T05:09:32.213950Z",
     "iopub.status.busy": "2022-10-03T05:09:32.213100Z",
     "iopub.status.idle": "2022-10-03T05:09:32.218105Z",
     "shell.execute_reply": "2022-10-03T05:09:32.217335Z"
    },
    "papermill": {
     "duration": 0.031568,
     "end_time": "2022-10-03T05:09:32.218278",
     "exception": false,
     "start_time": "2022-10-03T05:09:32.186710",
     "status": "completed"
    },
    "tags": []
   },
   "outputs": [
    {
     "data": {
      "text/plain": [
       "(5310,)"
      ]
     },
     "execution_count": 26,
     "metadata": {},
     "output_type": "execute_result"
    }
   ],
   "source": [
    "model_bc_da_stacked.shape"
   ]
  },
  {
   "cell_type": "code",
   "execution_count": 27,
   "id": "59075ebb",
   "metadata": {
    "execution": {
     "iopub.execute_input": "2022-10-03T05:09:32.351610Z",
     "iopub.status.busy": "2022-10-03T05:09:32.320735Z",
     "iopub.status.idle": "2022-10-03T05:09:33.705717Z",
     "shell.execute_reply": "2022-10-03T05:09:33.706590Z"
    },
    "papermill": {
     "duration": 1.449607,
     "end_time": "2022-10-03T05:09:33.706853",
     "exception": false,
     "start_time": "2022-10-03T05:09:32.257246",
     "status": "completed"
    },
    "tags": []
   },
   "outputs": [
    {
     "name": "stdout",
     "output_type": "stream",
     "text": [
      "/g/data/xv83/dbi599/summer-heat/figures/djf_tas_exceedence_aus_EC-Earth3.png\n"
     ]
    },
    {
     "data": {
      "image/png": "[encoded data removed]",
      "text/plain": [
       "<Figure size 576x432 with 1 Axes>"
      ]
     },
     "metadata": {
      "needs_background": "light"
     },
     "output_type": "display_data"
    }
   ],
   "source": [
    "outfile = f'/g/data/xv83/dbi599/summer-heat/figures/djf_tas_exceedence_aus_{model_name}.png'\n",
    "plot_exceedance(model_bc_da_stacked, model_name, outfile=outfile)"
   ]
  },
  {
   "cell_type": "code",
   "execution_count": 28,
   "id": "39e4acf0",
   "metadata": {
    "execution": {
     "iopub.execute_input": "2022-10-03T05:09:33.824362Z",
     "iopub.status.busy": "2022-10-03T05:09:33.807997Z",
     "iopub.status.idle": "2022-10-03T05:09:34.810669Z",
     "shell.execute_reply": "2022-10-03T05:09:34.809769Z"
    },
    "papermill": {
     "duration": 1.064877,
     "end_time": "2022-10-03T05:09:34.810903",
     "exception": false,
     "start_time": "2022-10-03T05:09:33.746026",
     "status": "completed"
    },
    "tags": []
   },
   "outputs": [
    {
     "name": "stdout",
     "output_type": "stream",
     "text": [
      "BIAS CORRECTED DATA\n",
      "96 events from 5310 samples\n",
      "98.19% percentile\n",
      "55 year return period\n"
     ]
    }
   ],
   "source": [
    "n_events, n_population, return_period_bc, percentile_bc = general_utils.event_in_context(model_bc_da_stacked.values, tas2019, 'above')\n",
    "print('BIAS CORRECTED DATA')\n",
    "print(f'{n_events} events from {n_population} samples')\n",
    "print(f'{percentile_bc:.2f}% percentile')\n",
    "print(f'{return_period_bc:.0f} year return period')"
   ]
  },
  {
   "cell_type": "code",
   "execution_count": 29,
   "id": "7789699c",
   "metadata": {
    "execution": {
     "iopub.execute_input": "2022-10-03T05:09:34.903155Z",
     "iopub.status.busy": "2022-10-03T05:09:34.901623Z",
     "iopub.status.idle": "2022-10-03T05:09:51.868542Z",
     "shell.execute_reply": "2022-10-03T05:09:51.869503Z"
    },
    "papermill": {
     "duration": 17.016439,
     "end_time": "2022-10-03T05:09:51.869937",
     "exception": false,
     "start_time": "2022-10-03T05:09:34.853498",
     "status": "completed"
    },
    "tags": []
   },
   "outputs": [
    {
     "name": "stdout",
     "output_type": "stream",
     "text": [
      "1960-1969\n",
      "1 events from 360 samples\n",
      "99.72% percentile\n",
      "360 year return period\n",
      "1970-1979\n",
      "2 events from 900 samples\n",
      "99.78% percentile\n",
      "450 year return period\n",
      "1980-1989\n",
      "1 events from 900 samples\n",
      "99.89% percentile\n",
      "900 year return period\n",
      "1990-1999\n",
      "2 events from 900 samples\n",
      "99.78% percentile\n",
      "450 year return period\n",
      "2000-2009\n",
      "10 events from 900 samples\n",
      "98.89% percentile\n",
      "90 year return period\n",
      "2010-2019\n",
      "38 events from 900 samples\n",
      "95.78% percentile\n",
      "24 year return period\n",
      "/g/data/xv83/dbi599/summer-heat/figures/dfj_tas_exceedence_aus_EC-Earth3_by-decade.png\n"
     ]
    },
    {
     "data": {
      "image/png": "[encoded data removed]",
      "text/plain": [
       "<Figure size 576x432 with 1 Axes>"
      ]
     },
     "metadata": {
      "needs_background": "light"
     },
     "output_type": "display_data"
    }
   ],
   "source": [
    "plot_exceedance_by_decade(model_bc_da_stacked, model_name)"
   ]
  },
  {
   "cell_type": "markdown",
   "id": "c6a2c14c",
   "metadata": {
    "papermill": {
     "duration": 0.02589,
     "end_time": "2022-10-03T05:09:51.937382",
     "exception": false,
     "start_time": "2022-10-03T05:09:51.911492",
     "status": "completed"
    },
    "tags": []
   },
   "source": [
    "#### Raw data"
   ]
  },
  {
   "cell_type": "code",
   "execution_count": 30,
   "id": "6b40107c",
   "metadata": {
    "execution": {
     "iopub.execute_input": "2022-10-03T05:09:52.042402Z",
     "iopub.status.busy": "2022-10-03T05:09:52.029808Z",
     "iopub.status.idle": "2022-10-03T05:09:52.986534Z",
     "shell.execute_reply": "2022-10-03T05:09:52.985570Z"
    },
    "papermill": {
     "duration": 1.023164,
     "end_time": "2022-10-03T05:09:52.986766",
     "exception": false,
     "start_time": "2022-10-03T05:09:51.963602",
     "status": "completed"
    },
    "tags": []
   },
   "outputs": [],
   "source": [
    "model_da_stacked = model_da.dropna('lead_time').stack({'sample': ['ensemble', 'init_date', 'lead_time']})"
   ]
  },
  {
   "cell_type": "code",
   "execution_count": 31,
   "id": "10aaf4a0",
   "metadata": {
    "execution": {
     "iopub.execute_input": "2022-10-03T05:09:53.062592Z",
     "iopub.status.busy": "2022-10-03T05:09:53.062259Z",
     "iopub.status.idle": "2022-10-03T05:09:53.066519Z",
     "shell.execute_reply": "2022-10-03T05:09:53.066245Z"
    },
    "papermill": {
     "duration": 0.035363,
     "end_time": "2022-10-03T05:09:53.066603",
     "exception": false,
     "start_time": "2022-10-03T05:09:53.031240",
     "status": "completed"
    },
    "tags": []
   },
   "outputs": [
    {
     "data": {
      "text/plain": [
       "(5310,)"
      ]
     },
     "execution_count": 31,
     "metadata": {},
     "output_type": "execute_result"
    }
   ],
   "source": [
    "model_da_stacked.shape"
   ]
  },
  {
   "cell_type": "code",
   "execution_count": 32,
   "id": "cb75fa43",
   "metadata": {
    "execution": {
     "iopub.execute_input": "2022-10-03T05:09:53.272450Z",
     "iopub.status.busy": "2022-10-03T05:09:53.245978Z",
     "iopub.status.idle": "2022-10-03T05:09:54.259845Z",
     "shell.execute_reply": "2022-10-03T05:09:54.260732Z"
    },
    "papermill": {
     "duration": 1.168762,
     "end_time": "2022-10-03T05:09:54.260998",
     "exception": false,
     "start_time": "2022-10-03T05:09:53.092236",
     "status": "completed"
    },
    "tags": []
   },
   "outputs": [
    {
     "data": {
      "image/png": "[encoded data removed]",
      "text/plain": [
       "<Figure size 576x432 with 1 Axes>"
      ]
     },
     "metadata": {
      "needs_background": "light"
     },
     "output_type": "display_data"
    }
   ],
   "source": [
    "plot_exceedance(model_da_stacked, model_name)"
   ]
  },
  {
   "cell_type": "code",
   "execution_count": 33,
   "id": "89138fa6",
   "metadata": {
    "execution": {
     "iopub.execute_input": "2022-10-03T05:09:54.390975Z",
     "iopub.status.busy": "2022-10-03T05:09:54.370116Z",
     "iopub.status.idle": "2022-10-03T05:09:55.269084Z",
     "shell.execute_reply": "2022-10-03T05:09:55.268175Z"
    },
    "papermill": {
     "duration": 0.961451,
     "end_time": "2022-10-03T05:09:55.269321",
     "exception": false,
     "start_time": "2022-10-03T05:09:54.307870",
     "status": "completed"
    },
    "tags": []
   },
   "outputs": [
    {
     "name": "stdout",
     "output_type": "stream",
     "text": [
      "BIAS CORRECTED DATA\n",
      "1 events from 5310 samples\n",
      "99.98% percentile\n",
      "5310 year return period\n"
     ]
    }
   ],
   "source": [
    "n_events, n_population, return_period_raw, percentile_raw = general_utils.event_in_context(model_da_stacked.values, tas2019, 'above')\n",
    "print('BIAS CORRECTED DATA')\n",
    "print(f'{n_events} events from {n_population} samples')\n",
    "print(f'{percentile_raw:.2f}% percentile')\n",
    "print(f'{return_period_raw:.0f} year return period')"
   ]
  },
  {
   "cell_type": "code",
   "execution_count": null,
   "id": "cbfda751",
   "metadata": {
    "papermill": {
     "duration": 0.026825,
     "end_time": "2022-10-03T05:09:55.342975",
     "exception": false,
     "start_time": "2022-10-03T05:09:55.316150",
     "status": "completed"
    },
    "tags": []
   },
   "outputs": [],
   "source": []
  }
 ],
 "metadata": {
  "kernelspec": {
   "display_name": "Python 3",
   "language": "python",
   "name": "python3"
  },
  "language_info": {
   "codemirror_mode": {
    "name": "ipython",
    "version": 3
   },
   "file_extension": ".py",
   "mimetype": "text/x-python",
   "name": "python",
   "nbconvert_exporter": "python",
   "pygments_lexer": "ipython3",
   "version": "3.9.4"
  },
  "papermill": {
   "default_parameters": {},
   "duration": 39.74875,
   "end_time": "2022-10-03T05:09:55.981366",
   "environment_variables": {},
   "exception": null,
   "input_path": "analysis/analysis.ipynb",
   "output_path": "analysis/analysis_EC-Earth3.ipynb",
   "parameters": {
    "bom_file": "/g/data/xv83/dbi599/summer-heat/data/tas_BoM_1911-2022_DJF_aus-mean.nc",
    "independence_plot": "/g/data/xv83/dbi599/summer-heat/figures/independence-test_tas_EC-Earth3-dcppA-hindcast_196011-201811_DJF_aus-mean.png",
    "min_lead": 2,
    "model_bc_file": "/g/data/xv83/dbi599/summer-heat/data/tas_EC-Earth3-dcppA-hindcast_196011-201811_DJF_aus-mean_bias-corrected-BoM-additive.zarr.zip",
    "model_file": "/g/data/xv83/dbi599/summer-heat/data/tas_EC-Earth3-dcppA-hindcast_196011-201811_DJF_aus-mean.zarr.zip",
    "model_name": "EC-Earth3",
    "similarity_bc_file": "/g/data/xv83/dbi599/summer-heat/data/ks-test_tas_EC-Earth3-dcppA-hindcast_1960-2018_DJF_aus-mean_bias-corrected-BoM-additive.zarr.zip",
    "similarity_raw_file": "/g/data/xv83/dbi599/summer-heat/data/ks-test_tas_EC-Earth3-dcppA-hindcast_1960-2018_DJF_aus-mean_BoM.zarr.zip"
   },
   "start_time": "2022-10-03T05:09:16.232616",
   "version": "2.3.3"
  }
 },
 "nbformat": 4,
 "nbformat_minor": 5
}
